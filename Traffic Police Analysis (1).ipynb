{
 "cells": [
  {
   "cell_type": "code",
   "execution_count": 1,
   "id": "c3980cbd-b248-4f84-8a29-869a00ae916c",
   "metadata": {},
   "outputs": [],
   "source": [
    "import pandas as pd\n",
    "import matplotlib.pyplot as mt\n",
    "import numpy as np"
   ]
  },
  {
   "cell_type": "code",
   "execution_count": 2,
   "id": "92ed95bd-9e45-47dd-bb80-17a23279f634",
   "metadata": {},
   "outputs": [
    {
     "data": {
      "text/html": [
       "<div>\n",
       "<style scoped>\n",
       "    .dataframe tbody tr th:only-of-type {\n",
       "        vertical-align: middle;\n",
       "    }\n",
       "\n",
       "    .dataframe tbody tr th {\n",
       "        vertical-align: top;\n",
       "    }\n",
       "\n",
       "    .dataframe thead th {\n",
       "        text-align: right;\n",
       "    }\n",
       "</style>\n",
       "<table border=\"1\" class=\"dataframe\">\n",
       "  <thead>\n",
       "    <tr style=\"text-align: right;\">\n",
       "      <th></th>\n",
       "      <th>stop_date</th>\n",
       "      <th>stop_time</th>\n",
       "      <th>county_name</th>\n",
       "      <th>driver_gender</th>\n",
       "      <th>driver_age_raw</th>\n",
       "      <th>driver_age</th>\n",
       "      <th>driver_race</th>\n",
       "      <th>violation_raw</th>\n",
       "      <th>violation</th>\n",
       "      <th>search_conducted</th>\n",
       "      <th>search_type</th>\n",
       "      <th>stop_outcome</th>\n",
       "      <th>is_arrested</th>\n",
       "      <th>stop_duration</th>\n",
       "      <th>drugs_related_stop</th>\n",
       "    </tr>\n",
       "  </thead>\n",
       "  <tbody>\n",
       "    <tr>\n",
       "      <th>0</th>\n",
       "      <td>2005-01-02</td>\n",
       "      <td>01:55</td>\n",
       "      <td>NaN</td>\n",
       "      <td>M</td>\n",
       "      <td>1985.0</td>\n",
       "      <td>20.0</td>\n",
       "      <td>White</td>\n",
       "      <td>Speeding</td>\n",
       "      <td>Speeding</td>\n",
       "      <td>False</td>\n",
       "      <td>NaN</td>\n",
       "      <td>Citation</td>\n",
       "      <td>False</td>\n",
       "      <td>0-15 Min</td>\n",
       "      <td>False</td>\n",
       "    </tr>\n",
       "    <tr>\n",
       "      <th>1</th>\n",
       "      <td>2005-01-18</td>\n",
       "      <td>08:15</td>\n",
       "      <td>NaN</td>\n",
       "      <td>M</td>\n",
       "      <td>1965.0</td>\n",
       "      <td>40.0</td>\n",
       "      <td>White</td>\n",
       "      <td>Speeding</td>\n",
       "      <td>Speeding</td>\n",
       "      <td>False</td>\n",
       "      <td>NaN</td>\n",
       "      <td>Citation</td>\n",
       "      <td>False</td>\n",
       "      <td>0-15 Min</td>\n",
       "      <td>False</td>\n",
       "    </tr>\n",
       "    <tr>\n",
       "      <th>2</th>\n",
       "      <td>2005-01-23</td>\n",
       "      <td>23:15</td>\n",
       "      <td>NaN</td>\n",
       "      <td>M</td>\n",
       "      <td>1972.0</td>\n",
       "      <td>33.0</td>\n",
       "      <td>White</td>\n",
       "      <td>Speeding</td>\n",
       "      <td>Speeding</td>\n",
       "      <td>False</td>\n",
       "      <td>NaN</td>\n",
       "      <td>Citation</td>\n",
       "      <td>False</td>\n",
       "      <td>0-15 Min</td>\n",
       "      <td>False</td>\n",
       "    </tr>\n",
       "  </tbody>\n",
       "</table>\n",
       "</div>"
      ],
      "text/plain": [
       "    stop_date stop_time  county_name driver_gender  driver_age_raw  \\\n",
       "0  2005-01-02     01:55          NaN             M          1985.0   \n",
       "1  2005-01-18     08:15          NaN             M          1965.0   \n",
       "2  2005-01-23     23:15          NaN             M          1972.0   \n",
       "\n",
       "   driver_age driver_race violation_raw violation  search_conducted  \\\n",
       "0        20.0       White      Speeding  Speeding             False   \n",
       "1        40.0       White      Speeding  Speeding             False   \n",
       "2        33.0       White      Speeding  Speeding             False   \n",
       "\n",
       "  search_type stop_outcome is_arrested stop_duration  drugs_related_stop  \n",
       "0         NaN     Citation       False      0-15 Min               False  \n",
       "1         NaN     Citation       False      0-15 Min               False  \n",
       "2         NaN     Citation       False      0-15 Min               False  "
      ]
     },
     "execution_count": 2,
     "metadata": {},
     "output_type": "execute_result"
    }
   ],
   "source": [
    "df=pd.read_csv(r\"C:\\Users\\hp\\OneDrive\\Desktop\\police.csv\")\n",
    "df.head(3)"
   ]
  },
  {
   "cell_type": "code",
   "execution_count": 3,
   "id": "46845731-63c1-4896-811f-b23b03f0455e",
   "metadata": {},
   "outputs": [
    {
     "data": {
      "text/plain": [
       "stop_date                 0\n",
       "stop_time                 0\n",
       "county_name           91741\n",
       "driver_gender          5335\n",
       "driver_age_raw         5327\n",
       "driver_age             5621\n",
       "driver_race            5333\n",
       "violation_raw          5333\n",
       "violation              5333\n",
       "search_conducted          0\n",
       "search_type           88545\n",
       "stop_outcome           5333\n",
       "is_arrested            5333\n",
       "stop_duration          5333\n",
       "drugs_related_stop        0\n",
       "dtype: int64"
      ]
     },
     "execution_count": 3,
     "metadata": {},
     "output_type": "execute_result"
    }
   ],
   "source": [
    "df.isnull().sum()"
   ]
  },
  {
   "cell_type": "code",
   "execution_count": 4,
   "id": "e43daa03-74c1-4cd1-acd0-5638f1465936",
   "metadata": {},
   "outputs": [],
   "source": [
    "df.drop([\"county_name\",\"search_type\"],axis=1,inplace=True)"
   ]
  },
  {
   "cell_type": "code",
   "execution_count": 5,
   "id": "d51f4a5c-ad69-4a50-8bd3-459d17033bd8",
   "metadata": {},
   "outputs": [
    {
     "data": {
      "text/html": [
       "<div>\n",
       "<style scoped>\n",
       "    .dataframe tbody tr th:only-of-type {\n",
       "        vertical-align: middle;\n",
       "    }\n",
       "\n",
       "    .dataframe tbody tr th {\n",
       "        vertical-align: top;\n",
       "    }\n",
       "\n",
       "    .dataframe thead th {\n",
       "        text-align: right;\n",
       "    }\n",
       "</style>\n",
       "<table border=\"1\" class=\"dataframe\">\n",
       "  <thead>\n",
       "    <tr style=\"text-align: right;\">\n",
       "      <th></th>\n",
       "      <th>stop_date</th>\n",
       "      <th>stop_time</th>\n",
       "      <th>driver_gender</th>\n",
       "      <th>driver_age_raw</th>\n",
       "      <th>driver_age</th>\n",
       "      <th>driver_race</th>\n",
       "      <th>violation_raw</th>\n",
       "      <th>violation</th>\n",
       "      <th>search_conducted</th>\n",
       "      <th>stop_outcome</th>\n",
       "      <th>is_arrested</th>\n",
       "      <th>stop_duration</th>\n",
       "      <th>drugs_related_stop</th>\n",
       "    </tr>\n",
       "  </thead>\n",
       "  <tbody>\n",
       "    <tr>\n",
       "      <th>0</th>\n",
       "      <td>2005-01-02</td>\n",
       "      <td>01:55</td>\n",
       "      <td>M</td>\n",
       "      <td>1985.0</td>\n",
       "      <td>20.0</td>\n",
       "      <td>White</td>\n",
       "      <td>Speeding</td>\n",
       "      <td>Speeding</td>\n",
       "      <td>False</td>\n",
       "      <td>Citation</td>\n",
       "      <td>False</td>\n",
       "      <td>0-15 Min</td>\n",
       "      <td>False</td>\n",
       "    </tr>\n",
       "    <tr>\n",
       "      <th>1</th>\n",
       "      <td>2005-01-18</td>\n",
       "      <td>08:15</td>\n",
       "      <td>M</td>\n",
       "      <td>1965.0</td>\n",
       "      <td>40.0</td>\n",
       "      <td>White</td>\n",
       "      <td>Speeding</td>\n",
       "      <td>Speeding</td>\n",
       "      <td>False</td>\n",
       "      <td>Citation</td>\n",
       "      <td>False</td>\n",
       "      <td>0-15 Min</td>\n",
       "      <td>False</td>\n",
       "    </tr>\n",
       "  </tbody>\n",
       "</table>\n",
       "</div>"
      ],
      "text/plain": [
       "    stop_date stop_time driver_gender  driver_age_raw  driver_age driver_race  \\\n",
       "0  2005-01-02     01:55             M          1985.0        20.0       White   \n",
       "1  2005-01-18     08:15             M          1965.0        40.0       White   \n",
       "\n",
       "  violation_raw violation  search_conducted stop_outcome is_arrested  \\\n",
       "0      Speeding  Speeding             False     Citation       False   \n",
       "1      Speeding  Speeding             False     Citation       False   \n",
       "\n",
       "  stop_duration  drugs_related_stop  \n",
       "0      0-15 Min               False  \n",
       "1      0-15 Min               False  "
      ]
     },
     "execution_count": 5,
     "metadata": {},
     "output_type": "execute_result"
    }
   ],
   "source": [
    "df.head(2)"
   ]
  },
  {
   "cell_type": "code",
   "execution_count": 6,
   "id": "c676a00a-b061-4c03-aef7-e6fb639aef26",
   "metadata": {},
   "outputs": [
    {
     "data": {
      "text/plain": [
       "(91741, 13)"
      ]
     },
     "execution_count": 6,
     "metadata": {},
     "output_type": "execute_result"
    }
   ],
   "source": [
    "df.shape"
   ]
  },
  {
   "cell_type": "code",
   "execution_count": 7,
   "id": "8bfcce83-c906-4e06-8a45-08586b6b1751",
   "metadata": {},
   "outputs": [
    {
     "data": {
      "text/plain": [
       "np.int64(48281)"
      ]
     },
     "execution_count": 7,
     "metadata": {},
     "output_type": "execute_result"
    }
   ],
   "source": [
    "df.isnull().sum().sum()"
   ]
  },
  {
   "cell_type": "code",
   "execution_count": 8,
   "id": "fdfb5d10-b5b3-4c07-811d-b9a94457471a",
   "metadata": {},
   "outputs": [],
   "source": [
    "df.dropna(how=\"any\",inplace=True)"
   ]
  },
  {
   "cell_type": "code",
   "execution_count": 9,
   "id": "692b0cd7-b0f0-4f9f-af6b-f4a6724b0f39",
   "metadata": {},
   "outputs": [
    {
     "data": {
      "text/plain": [
       "(86113, 13)"
      ]
     },
     "execution_count": 9,
     "metadata": {},
     "output_type": "execute_result"
    }
   ],
   "source": [
    "df.shape"
   ]
  },
  {
   "cell_type": "code",
   "execution_count": 10,
   "id": "edd7fb77-9f6d-4e0c-9275-df6259c88809",
   "metadata": {},
   "outputs": [
    {
     "data": {
      "text/html": [
       "<div>\n",
       "<style scoped>\n",
       "    .dataframe tbody tr th:only-of-type {\n",
       "        vertical-align: middle;\n",
       "    }\n",
       "\n",
       "    .dataframe tbody tr th {\n",
       "        vertical-align: top;\n",
       "    }\n",
       "\n",
       "    .dataframe thead th {\n",
       "        text-align: right;\n",
       "    }\n",
       "</style>\n",
       "<table border=\"1\" class=\"dataframe\">\n",
       "  <thead>\n",
       "    <tr style=\"text-align: right;\">\n",
       "      <th></th>\n",
       "      <th>stop_date</th>\n",
       "      <th>stop_time</th>\n",
       "      <th>driver_gender</th>\n",
       "      <th>driver_age_raw</th>\n",
       "      <th>driver_age</th>\n",
       "      <th>driver_race</th>\n",
       "      <th>violation_raw</th>\n",
       "      <th>violation</th>\n",
       "      <th>search_conducted</th>\n",
       "      <th>stop_outcome</th>\n",
       "      <th>is_arrested</th>\n",
       "      <th>stop_duration</th>\n",
       "      <th>drugs_related_stop</th>\n",
       "    </tr>\n",
       "  </thead>\n",
       "  <tbody>\n",
       "    <tr>\n",
       "      <th>0</th>\n",
       "      <td>2005-01-02</td>\n",
       "      <td>01:55</td>\n",
       "      <td>M</td>\n",
       "      <td>1985.0</td>\n",
       "      <td>20.0</td>\n",
       "      <td>White</td>\n",
       "      <td>Speeding</td>\n",
       "      <td>Speeding</td>\n",
       "      <td>False</td>\n",
       "      <td>Citation</td>\n",
       "      <td>False</td>\n",
       "      <td>0-15 Min</td>\n",
       "      <td>False</td>\n",
       "    </tr>\n",
       "    <tr>\n",
       "      <th>1</th>\n",
       "      <td>2005-01-18</td>\n",
       "      <td>08:15</td>\n",
       "      <td>M</td>\n",
       "      <td>1965.0</td>\n",
       "      <td>40.0</td>\n",
       "      <td>White</td>\n",
       "      <td>Speeding</td>\n",
       "      <td>Speeding</td>\n",
       "      <td>False</td>\n",
       "      <td>Citation</td>\n",
       "      <td>False</td>\n",
       "      <td>0-15 Min</td>\n",
       "      <td>False</td>\n",
       "    </tr>\n",
       "  </tbody>\n",
       "</table>\n",
       "</div>"
      ],
      "text/plain": [
       "    stop_date stop_time driver_gender  driver_age_raw  driver_age driver_race  \\\n",
       "0  2005-01-02     01:55             M          1985.0        20.0       White   \n",
       "1  2005-01-18     08:15             M          1965.0        40.0       White   \n",
       "\n",
       "  violation_raw violation  search_conducted stop_outcome is_arrested  \\\n",
       "0      Speeding  Speeding             False     Citation       False   \n",
       "1      Speeding  Speeding             False     Citation       False   \n",
       "\n",
       "  stop_duration  drugs_related_stop  \n",
       "0      0-15 Min               False  \n",
       "1      0-15 Min               False  "
      ]
     },
     "execution_count": 10,
     "metadata": {},
     "output_type": "execute_result"
    }
   ],
   "source": [
    "df.head(2)"
   ]
  },
  {
   "cell_type": "code",
   "execution_count": 11,
   "id": "27225c92-894b-4d6c-aef8-52579ba7fb1a",
   "metadata": {},
   "outputs": [],
   "source": [
    "df[\"stop_outcome\"]=df[\"stop_outcome\"].str.replace('N/D',\"No Date\")"
   ]
  },
  {
   "cell_type": "code",
   "execution_count": 12,
   "id": "29900dcc-6087-405e-97b2-2aa3f3b323a5",
   "metadata": {},
   "outputs": [],
   "source": [
    "soft=df[\"violation\"]"
   ]
  },
  {
   "cell_type": "code",
   "execution_count": 13,
   "id": "782749cd-b4a7-46e3-9d78-dcbde70fff26",
   "metadata": {},
   "outputs": [
    {
     "data": {
      "text/plain": [
       "violation_1\n",
       "Speeding            48359\n",
       "Moving violation    16164\n",
       "Equipment           11007\n",
       "Other                4204\n",
       "Registration         3427\n",
       "plates               3427\n",
       "Seat belt            2952\n",
       "dtype: int64"
      ]
     },
     "execution_count": 13,
     "metadata": {},
     "output_type": "execute_result"
    }
   ],
   "source": [
    "soft=df[\"violation\"].str.split(\"/\",expand=True).stack()\n",
    "soft=soft.to_frame()\n",
    "soft.columns=[\"violation_1\"]\n",
    "violation_1=soft.groupby([\"violation_1\"]).size()\n",
    "violation_1=violation_1\n",
    "violation_1.sort_values(ascending=False)"
   ]
  },
  {
   "cell_type": "code",
   "execution_count": 14,
   "id": "96f555a1-d876-4620-ae3d-cfa4986a7037",
   "metadata": {},
   "outputs": [],
   "source": [
    "mt.style.use(\"default\")"
   ]
  },
  {
   "cell_type": "code",
   "execution_count": 15,
   "id": "b77117d3-cbe3-4af1-b17b-c90136fcde8b",
   "metadata": {},
   "outputs": [
    {
     "data": {
      "image/png": "[encoded data removed]",
      "text/plain": [
       "<Figure size 1000x1000 with 1 Axes>"
      ]
     },
     "metadata": {},
     "output_type": "display_data"
    }
   ],
   "source": [
    "violet=violation_1.sort_values(ascending=False)\n",
    "violet.plot(figsize=(10,10),kind='pie',startangle=90,\n",
    "            shadow=True,autopct=\"%0.1f%%\",pctdistance=0.8,\n",
    "           explode=[0.1,0,0,0,0,0,0],wedgeprops={'edgecolor':\"black\",'width':0.4},\n",
    "           textprops={\"fontweight\":'bold','size':12},\n",
    "            colors=[\"orangered\",\"tomato\",'coral','salmon','lightsalmon','mistyrose','seashell'])\n",
    "\n",
    "mt.title(\"Overall Crimes\",fontweight=\"bold\",size=30)\n"
   ]
  },
  {
   "cell_type": "code",
   "execution_count": 139,
   "id": "0852402a-4b57-4b1c-8303-684f6eb3c267",
   "metadata": {},
   "outputs": [
    {
     "data": {
      "text/html": [
       "<div>\n",
       "<style scoped>\n",
       "    .dataframe tbody tr th:only-of-type {\n",
       "        vertical-align: middle;\n",
       "    }\n",
       "\n",
       "    .dataframe tbody tr th {\n",
       "        vertical-align: top;\n",
       "    }\n",
       "\n",
       "    .dataframe thead th {\n",
       "        text-align: right;\n",
       "    }\n",
       "</style>\n",
       "<table border=\"1\" class=\"dataframe\">\n",
       "  <thead>\n",
       "    <tr style=\"text-align: right;\">\n",
       "      <th>violation</th>\n",
       "      <th>Equipment</th>\n",
       "      <th>Moving violation</th>\n",
       "      <th>Other</th>\n",
       "      <th>Registration/plates</th>\n",
       "      <th>Seat belt</th>\n",
       "      <th>Speeding</th>\n",
       "    </tr>\n",
       "    <tr>\n",
       "      <th>driver_gender</th>\n",
       "      <th></th>\n",
       "      <th></th>\n",
       "      <th></th>\n",
       "      <th></th>\n",
       "      <th></th>\n",
       "      <th></th>\n",
       "    </tr>\n",
       "  </thead>\n",
       "  <tbody>\n",
       "    <tr>\n",
       "      <th>F</th>\n",
       "      <td>2484</td>\n",
       "      <td>3195</td>\n",
       "      <td>685</td>\n",
       "      <td>1012</td>\n",
       "      <td>635</td>\n",
       "      <td>15453</td>\n",
       "    </tr>\n",
       "    <tr>\n",
       "      <th>M</th>\n",
       "      <td>8523</td>\n",
       "      <td>12969</td>\n",
       "      <td>3519</td>\n",
       "      <td>2415</td>\n",
       "      <td>2317</td>\n",
       "      <td>32906</td>\n",
       "    </tr>\n",
       "  </tbody>\n",
       "</table>\n",
       "</div>"
      ],
      "text/plain": [
       "violation      Equipment  Moving violation  Other  Registration/plates  \\\n",
       "driver_gender                                                            \n",
       "F                   2484              3195    685                 1012   \n",
       "M                   8523             12969   3519                 2415   \n",
       "\n",
       "violation      Seat belt  Speeding  \n",
       "driver_gender                       \n",
       "F                    635     15453  \n",
       "M                   2317     32906  "
      ]
     },
     "execution_count": 139,
     "metadata": {},
     "output_type": "execute_result"
    }
   ],
   "source": [
    "r=df.groupby([\"driver_gender\",\"violation\"]).stop_time.count().unstack()\n",
    "r"
   ]
  },
  {
   "cell_type": "code",
   "execution_count": 142,
   "id": "b2303013-8a9c-4c70-9557-1c2676ce4fe3",
   "metadata": {},
   "outputs": [],
   "source": [
    "mt.style.use(\"dark_background\")"
   ]
  },
  {
   "cell_type": "code",
   "execution_count": 145,
   "id": "8c911f8f-e367-49df-acc4-8cb1e3b1aeb8",
   "metadata": {},
   "outputs": [
    {
     "data": {
      "text/plain": [
       "(array([    0.,  5000., 10000., 15000., 20000., 25000., 30000., 35000.]),\n",
       " [Text(0, 0.0, '0'),\n",
       "  Text(0, 5000.0, '5000'),\n",
       "  Text(0, 10000.0, '10000'),\n",
       "  Text(0, 15000.0, '15000'),\n",
       "  Text(0, 20000.0, '20000'),\n",
       "  Text(0, 25000.0, '25000'),\n",
       "  Text(0, 30000.0, '30000'),\n",
       "  Text(0, 35000.0, '35000')])"
      ]
     },
     "execution_count": 145,
     "metadata": {},
     "output_type": "execute_result"
    },
    {
     "data": {
      "image/png": "[encoded data removed]",
      "text/plain": [
       "<Figure size 640x480 with 1 Axes>"
      ]
     },
     "metadata": {},
     "output_type": "display_data"
    }
   ],
   "source": [
    "r.plot(kind='bar',color=[\"grey\",\"aquamarine\",\"lawngreen\",\"tomato\",\"lightcoral\",\"mediumspringgreen\"])\n",
    "\n",
    "mt.title(\"Crimes Based on Gender\",size=15,fontweight='bold')\n",
    "mt.xticks(rotation=0,size=15,fontweight='bold')\n",
    "mt.xlabel(\"Gender\",size=10,fontweight='medium')\n",
    "mt.ylabel('Numbers',size=10,fontweight='medium')\n",
    "mt.yticks(size=15,fontweight='bold')"
   ]
  },
  {
   "cell_type": "code",
   "execution_count": 20,
   "id": "8668cc63-229e-49dc-bad6-350a91ad75b6",
   "metadata": {},
   "outputs": [
    {
     "data": {
      "text/plain": [
       "array(['Citation', 'Arrest Driver', 'No Date', 'Warning',\n",
       "       'Arrest Passenger', 'No Action'], dtype=object)"
      ]
     },
     "execution_count": 20,
     "metadata": {},
     "output_type": "execute_result"
    }
   ],
   "source": [
    "df[\"stop_outcome\"].unique()"
   ]
  },
  {
   "cell_type": "code",
   "execution_count": 132,
   "id": "1b074c5a-80c4-40f3-9493-89ded3015c29",
   "metadata": {},
   "outputs": [
    {
     "data": {
      "text/html": [
       "<div>\n",
       "<style scoped>\n",
       "    .dataframe tbody tr th:only-of-type {\n",
       "        vertical-align: middle;\n",
       "    }\n",
       "\n",
       "    .dataframe tbody tr th {\n",
       "        vertical-align: top;\n",
       "    }\n",
       "\n",
       "    .dataframe thead th {\n",
       "        text-align: right;\n",
       "    }\n",
       "</style>\n",
       "<table border=\"1\" class=\"dataframe\">\n",
       "  <thead>\n",
       "    <tr style=\"text-align: right;\">\n",
       "      <th>is_arrested</th>\n",
       "      <th>False</th>\n",
       "      <th>True</th>\n",
       "    </tr>\n",
       "    <tr>\n",
       "      <th>driver_gender</th>\n",
       "      <th></th>\n",
       "      <th></th>\n",
       "    </tr>\n",
       "  </thead>\n",
       "  <tbody>\n",
       "    <tr>\n",
       "      <th>F</th>\n",
       "      <td>22870</td>\n",
       "      <td>594</td>\n",
       "    </tr>\n",
       "    <tr>\n",
       "      <th>M</th>\n",
       "      <td>60318</td>\n",
       "      <td>2331</td>\n",
       "    </tr>\n",
       "  </tbody>\n",
       "</table>\n",
       "</div>"
      ],
      "text/plain": [
       "is_arrested    False  True \n",
       "driver_gender              \n",
       "F              22870    594\n",
       "M              60318   2331"
      ]
     },
     "execution_count": 132,
     "metadata": {},
     "output_type": "execute_result"
    }
   ],
   "source": [
    "arest=df.groupby([\"driver_gender\",\"is_arrested\"]).size().unstack()\n",
    "arest"
   ]
  },
  {
   "cell_type": "code",
   "execution_count": 156,
   "id": "0d527f84-46c7-487d-9da3-e8f7cd63de99",
   "metadata": {},
   "outputs": [],
   "source": [
    "mt.style.use(\"default\")"
   ]
  },
  {
   "cell_type": "code",
   "execution_count": 167,
   "id": "96f9285b-16c4-458a-a481-9c5f963130d2",
   "metadata": {},
   "outputs": [
    {
     "data": {
      "image/png": "[encoded data removed]",
      "text/plain": [
       "<Figure size 640x480 with 1 Axes>"
      ]
     },
     "metadata": {},
     "output_type": "display_data"
    }
   ],
   "source": [
    "arest.plot(kind='bar')\n",
    "mt.title(\"Arrested Result Based on Gender\",fontweight='semibold',size=15)\n",
    "mt.xticks(rotation=0,size=15,fontweight='bold')\n",
    "mt.xlabel(\"Gender\",size=10,fontweight='medium')\n",
    "mt.ylabel('Numbers',size=10,fontweight='medium')\n",
    "mt.yticks(size=12,fontweight='bold')\n",
    "mt.savefig(r'C:\\Users\\hp\\OneDrive\\Desktop\\Arrested Result Based on Gender.jpeg')"
   ]
  },
  {
   "cell_type": "code",
   "execution_count": 131,
   "id": "4ff139f7-f94c-4eb3-acc5-52a4540af2c7",
   "metadata": {},
   "outputs": [
    {
     "data": {
      "text/html": [
       "<div>\n",
       "<style scoped>\n",
       "    .dataframe tbody tr th:only-of-type {\n",
       "        vertical-align: middle;\n",
       "    }\n",
       "\n",
       "    .dataframe tbody tr th {\n",
       "        vertical-align: top;\n",
       "    }\n",
       "\n",
       "    .dataframe thead th {\n",
       "        text-align: right;\n",
       "    }\n",
       "</style>\n",
       "<table border=\"1\" class=\"dataframe\">\n",
       "  <thead>\n",
       "    <tr style=\"text-align: right;\">\n",
       "      <th>stop_outcome</th>\n",
       "      <th>Arrest Driver</th>\n",
       "      <th>Arrest Passenger</th>\n",
       "      <th>Citation</th>\n",
       "      <th>No Action</th>\n",
       "      <th>No Date</th>\n",
       "      <th>Warning</th>\n",
       "    </tr>\n",
       "    <tr>\n",
       "      <th>driver_gender</th>\n",
       "      <th></th>\n",
       "      <th></th>\n",
       "      <th></th>\n",
       "      <th></th>\n",
       "      <th></th>\n",
       "      <th></th>\n",
       "    </tr>\n",
       "  </thead>\n",
       "  <tbody>\n",
       "    <tr>\n",
       "      <th>F</th>\n",
       "      <td>466</td>\n",
       "      <td>128</td>\n",
       "      <td>21069</td>\n",
       "      <td>182</td>\n",
       "      <td>127</td>\n",
       "      <td>1492</td>\n",
       "    </tr>\n",
       "    <tr>\n",
       "      <th>M</th>\n",
       "      <td>2101</td>\n",
       "      <td>230</td>\n",
       "      <td>55752</td>\n",
       "      <td>381</td>\n",
       "      <td>463</td>\n",
       "      <td>3722</td>\n",
       "    </tr>\n",
       "  </tbody>\n",
       "</table>\n",
       "</div>"
      ],
      "text/plain": [
       "stop_outcome   Arrest Driver  Arrest Passenger  Citation  No Action  No Date  \\\n",
       "driver_gender                                                                  \n",
       "F                        466               128     21069        182      127   \n",
       "M                       2101               230     55752        381      463   \n",
       "\n",
       "stop_outcome   Warning  \n",
       "driver_gender           \n",
       "F                 1492  \n",
       "M                 3722  "
      ]
     },
     "execution_count": 131,
     "metadata": {},
     "output_type": "execute_result"
    }
   ],
   "source": [
    "result=df.groupby([\"driver_gender\",\"stop_outcome\"]).stop_date.count().unstack()\n",
    "result"
   ]
  },
  {
   "cell_type": "code",
   "execution_count": 92,
   "id": "bb0db333-8ec5-4907-b7d0-d541e147035e",
   "metadata": {},
   "outputs": [],
   "source": [
    "mt.style.use(\"classic\")"
   ]
  },
  {
   "cell_type": "code",
   "execution_count": 115,
   "id": "24a7b45e-9842-4d44-b74d-5669dd62739a",
   "metadata": {},
   "outputs": [
    {
     "data": {
      "image/png": "[encoded data removed]",
      "text/plain": [
       "<Figure size 1600x640 with 1 Axes>"
      ]
     },
     "metadata": {},
     "output_type": "display_data"
    }
   ],
   "source": [
    "result.plot(kind='bar',figsize=(20,8))\n",
    "mt.xticks(rotation=0,fontweight='semibold',size=15)\n",
    "mt.xlabel(\"Gender\",fontweight='semibold',size=12)\n",
    "mt.title(\"Stop Outcome Based on Gender\",fontweight='bold',size=25,color='white')\n",
    "mt.yticks(fontweight='semibold',size=18)\n"
   ]
  },
  {
   "cell_type": "code",
   "execution_count": 163,
   "id": "5a11f2e6-38cf-4243-9c5b-17609fb8c68a",
   "metadata": {},
   "outputs": [
    {
     "data": {
      "text/html": [
       "<style type=\"text/css\">\n",
       "#T_6b9f4_row0_col0, #T_6b9f4_row0_col1, #T_6b9f4_row0_col2, #T_6b9f4_row0_col3, #T_6b9f4_row0_col4 {\n",
       "  background-color: #3182bd;\n",
       "  color: #f1f1f1;\n",
       "}\n",
       "#T_6b9f4_row1_col0, #T_6b9f4_row1_col1, #T_6b9f4_row1_col2, #T_6b9f4_row1_col3, #T_6b9f4_row1_col4 {\n",
       "  background-color: #d9d9d9;\n",
       "  color: #000000;\n",
       "}\n",
       "</style>\n",
       "<table id=\"T_6b9f4\">\n",
       "  <thead>\n",
       "    <tr>\n",
       "      <th class=\"index_name level0\" >driver_race</th>\n",
       "      <th id=\"T_6b9f4_level0_col0\" class=\"col_heading level0 col0\" >Asian</th>\n",
       "      <th id=\"T_6b9f4_level0_col1\" class=\"col_heading level0 col1\" >Black</th>\n",
       "      <th id=\"T_6b9f4_level0_col2\" class=\"col_heading level0 col2\" >Hispanic</th>\n",
       "      <th id=\"T_6b9f4_level0_col3\" class=\"col_heading level0 col3\" >Other</th>\n",
       "      <th id=\"T_6b9f4_level0_col4\" class=\"col_heading level0 col4\" >White</th>\n",
       "    </tr>\n",
       "    <tr>\n",
       "      <th class=\"index_name level0\" >driver_gender</th>\n",
       "      <th class=\"blank col0\" >&nbsp;</th>\n",
       "      <th class=\"blank col1\" >&nbsp;</th>\n",
       "      <th class=\"blank col2\" >&nbsp;</th>\n",
       "      <th class=\"blank col3\" >&nbsp;</th>\n",
       "      <th class=\"blank col4\" >&nbsp;</th>\n",
       "    </tr>\n",
       "  </thead>\n",
       "  <tbody>\n",
       "    <tr>\n",
       "      <th id=\"T_6b9f4_level0_row0\" class=\"row_heading level0 row0\" >F</th>\n",
       "      <td id=\"T_6b9f4_row0_col0\" class=\"data row0 col0\" >511</td>\n",
       "      <td id=\"T_6b9f4_row0_col1\" class=\"data row0 col1\" >2577</td>\n",
       "      <td id=\"T_6b9f4_row0_col2\" class=\"data row0 col2\" >1867</td>\n",
       "      <td id=\"T_6b9f4_row0_col3\" class=\"data row0 col3\" >26</td>\n",
       "      <td id=\"T_6b9f4_row0_col4\" class=\"data row0 col4\" >18483</td>\n",
       "    </tr>\n",
       "    <tr>\n",
       "      <th id=\"T_6b9f4_level0_row1\" class=\"row_heading level0 row1\" >M</th>\n",
       "      <td id=\"T_6b9f4_row1_col0\" class=\"data row1 col0\" >1742</td>\n",
       "      <td id=\"T_6b9f4_row1_col1\" class=\"data row1 col1\" >9620</td>\n",
       "      <td id=\"T_6b9f4_row1_col2\" class=\"data row1 col2\" >7610</td>\n",
       "      <td id=\"T_6b9f4_row1_col3\" class=\"data row1 col3\" >213</td>\n",
       "      <td id=\"T_6b9f4_row1_col4\" class=\"data row1 col4\" >43464</td>\n",
       "    </tr>\n",
       "  </tbody>\n",
       "</table>\n"
      ],
      "text/plain": [
       "<pandas.io.formats.style.Styler at 0xf75b47a5d0>"
      ]
     },
     "execution_count": 163,
     "metadata": {},
     "output_type": "execute_result"
    }
   ],
   "source": [
    "arrested=df.groupby([\"driver_gender\",'driver_race'])['is_arrested'].count().unstack()\n",
    "arrested.style.background_gradient(cmap=\"tab20c\")"
   ]
  },
  {
   "cell_type": "code",
   "execution_count": 25,
   "id": "f68c0bd8-869e-4cdd-a326-26d7d263a005",
   "metadata": {},
   "outputs": [
    {
     "data": {
      "text/html": [
       "<div>\n",
       "<style scoped>\n",
       "    .dataframe tbody tr th:only-of-type {\n",
       "        vertical-align: middle;\n",
       "    }\n",
       "\n",
       "    .dataframe tbody tr th {\n",
       "        vertical-align: top;\n",
       "    }\n",
       "\n",
       "    .dataframe thead th {\n",
       "        text-align: right;\n",
       "    }\n",
       "</style>\n",
       "<table border=\"1\" class=\"dataframe\">\n",
       "  <thead>\n",
       "    <tr style=\"text-align: right;\">\n",
       "      <th>violation</th>\n",
       "      <th>Equipment</th>\n",
       "      <th>Moving violation</th>\n",
       "      <th>Other</th>\n",
       "      <th>Registration/plates</th>\n",
       "      <th>Seat belt</th>\n",
       "      <th>Speeding</th>\n",
       "    </tr>\n",
       "    <tr>\n",
       "      <th>driver_race</th>\n",
       "      <th></th>\n",
       "      <th></th>\n",
       "      <th></th>\n",
       "      <th></th>\n",
       "      <th></th>\n",
       "      <th></th>\n",
       "    </tr>\n",
       "  </thead>\n",
       "  <tbody>\n",
       "    <tr>\n",
       "      <th>Asian</th>\n",
       "      <td>201</td>\n",
       "      <td>334</td>\n",
       "      <td>77</td>\n",
       "      <td>58</td>\n",
       "      <td>58</td>\n",
       "      <td>1525</td>\n",
       "    </tr>\n",
       "    <tr>\n",
       "      <th>Black</th>\n",
       "      <td>2202</td>\n",
       "      <td>2871</td>\n",
       "      <td>867</td>\n",
       "      <td>783</td>\n",
       "      <td>450</td>\n",
       "      <td>5024</td>\n",
       "    </tr>\n",
       "    <tr>\n",
       "      <th>Hispanic</th>\n",
       "      <td>2143</td>\n",
       "      <td>2405</td>\n",
       "      <td>575</td>\n",
       "      <td>716</td>\n",
       "      <td>551</td>\n",
       "      <td>3087</td>\n",
       "    </tr>\n",
       "    <tr>\n",
       "      <th>Other</th>\n",
       "      <td>16</td>\n",
       "      <td>51</td>\n",
       "      <td>21</td>\n",
       "      <td>2</td>\n",
       "      <td>2</td>\n",
       "      <td>147</td>\n",
       "    </tr>\n",
       "    <tr>\n",
       "      <th>White</th>\n",
       "      <td>6445</td>\n",
       "      <td>10503</td>\n",
       "      <td>2664</td>\n",
       "      <td>1868</td>\n",
       "      <td>1891</td>\n",
       "      <td>38576</td>\n",
       "    </tr>\n",
       "  </tbody>\n",
       "</table>\n",
       "</div>"
      ],
      "text/plain": [
       "violation    Equipment  Moving violation  Other  Registration/plates  \\\n",
       "driver_race                                                            \n",
       "Asian              201               334     77                   58   \n",
       "Black             2202              2871    867                  783   \n",
       "Hispanic          2143              2405    575                  716   \n",
       "Other               16                51     21                    2   \n",
       "White             6445             10503   2664                 1868   \n",
       "\n",
       "violation    Seat belt  Speeding  \n",
       "driver_race                       \n",
       "Asian               58      1525  \n",
       "Black              450      5024  \n",
       "Hispanic           551      3087  \n",
       "Other                2       147  \n",
       "White             1891     38576  "
      ]
     },
     "execution_count": 25,
     "metadata": {},
     "output_type": "execute_result"
    }
   ],
   "source": [
    "F_1=df.groupby([\"driver_race\",\"violation\"]).stop_outcome.count().unstack()\n",
    "F_1"
   ]
  },
  {
   "cell_type": "code",
   "execution_count": 26,
   "id": "9b5a0ca4-e8d0-43d8-8f7c-b422396c4647",
   "metadata": {},
   "outputs": [],
   "source": [
    "mt.style.use(\"default\")"
   ]
  },
  {
   "cell_type": "code",
   "execution_count": 27,
   "id": "789dfb03-229d-4d62-93de-c8a60fa92d79",
   "metadata": {
    "scrolled": true
   },
   "outputs": [
    {
     "data": {
      "image/png": "[encoded data removed]",
      "text/plain": [
       "<Figure size 1500x3000 with 6 Axes>"
      ]
     },
     "metadata": {},
     "output_type": "display_data"
    }
   ],
   "source": [
    "F_1.plot(figsize=(15,30),kind=\"bar\",subplots=True)\n",
    "mt.title(\"Crimes Based on Driver Race\",fontweight='bold',size=15)\n",
    "mt.xticks(fontweight='bold',rotation=0,size=15)\n",
    "mt.xlabel(\"Driver Race\",fontweight='bold',size=9)\n",
    "mt.ylabel(\"Numbers\",fontweight='bold',size=10)\n"
   ]
  },
  {
   "cell_type": "code",
   "execution_count": 28,
   "id": "bdcc730f-9668-43e8-8f47-2d7c02e65802",
   "metadata": {},
   "outputs": [
    {
     "data": {
      "text/plain": [
       "Index(['stop_date', 'stop_time', 'driver_gender', 'driver_age_raw',\n",
       "       'driver_age', 'driver_race', 'violation_raw', 'violation',\n",
       "       'search_conducted', 'stop_outcome', 'is_arrested', 'stop_duration',\n",
       "       'drugs_related_stop'],\n",
       "      dtype='object')"
      ]
     },
     "execution_count": 28,
     "metadata": {},
     "output_type": "execute_result"
    }
   ],
   "source": [
    "df.columns"
   ]
  },
  {
   "cell_type": "code",
   "execution_count": 29,
   "id": "47edcd09-2c69-4697-9fe2-6248575b53de",
   "metadata": {},
   "outputs": [
    {
     "data": {
      "text/html": [
       "<div>\n",
       "<style scoped>\n",
       "    .dataframe tbody tr th:only-of-type {\n",
       "        vertical-align: middle;\n",
       "    }\n",
       "\n",
       "    .dataframe tbody tr th {\n",
       "        vertical-align: top;\n",
       "    }\n",
       "\n",
       "    .dataframe thead th {\n",
       "        text-align: right;\n",
       "    }\n",
       "</style>\n",
       "<table border=\"1\" class=\"dataframe\">\n",
       "  <thead>\n",
       "    <tr style=\"text-align: right;\">\n",
       "      <th>stop_outcome</th>\n",
       "      <th>Arrest Driver</th>\n",
       "      <th>Arrest Passenger</th>\n",
       "      <th>Citation</th>\n",
       "      <th>No Action</th>\n",
       "      <th>No Date</th>\n",
       "      <th>Warning</th>\n",
       "    </tr>\n",
       "    <tr>\n",
       "      <th>driver_race</th>\n",
       "      <th></th>\n",
       "      <th></th>\n",
       "      <th></th>\n",
       "      <th></th>\n",
       "      <th></th>\n",
       "      <th></th>\n",
       "    </tr>\n",
       "  </thead>\n",
       "  <tbody>\n",
       "    <tr>\n",
       "      <th>Asian</th>\n",
       "      <td>36</td>\n",
       "      <td>5</td>\n",
       "      <td>2104</td>\n",
       "      <td>13</td>\n",
       "      <td>11</td>\n",
       "      <td>84</td>\n",
       "    </tr>\n",
       "    <tr>\n",
       "      <th>Black</th>\n",
       "      <td>599</td>\n",
       "      <td>105</td>\n",
       "      <td>10421</td>\n",
       "      <td>79</td>\n",
       "      <td>119</td>\n",
       "      <td>874</td>\n",
       "    </tr>\n",
       "    <tr>\n",
       "      <th>Hispanic</th>\n",
       "      <td>499</td>\n",
       "      <td>66</td>\n",
       "      <td>8053</td>\n",
       "      <td>92</td>\n",
       "      <td>75</td>\n",
       "      <td>692</td>\n",
       "    </tr>\n",
       "    <tr>\n",
       "      <th>Other</th>\n",
       "      <td>1</td>\n",
       "      <td>1</td>\n",
       "      <td>216</td>\n",
       "      <td>3</td>\n",
       "      <td>2</td>\n",
       "      <td>16</td>\n",
       "    </tr>\n",
       "    <tr>\n",
       "      <th>White</th>\n",
       "      <td>1432</td>\n",
       "      <td>181</td>\n",
       "      <td>56027</td>\n",
       "      <td>376</td>\n",
       "      <td>383</td>\n",
       "      <td>3548</td>\n",
       "    </tr>\n",
       "  </tbody>\n",
       "</table>\n",
       "</div>"
      ],
      "text/plain": [
       "stop_outcome  Arrest Driver  Arrest Passenger  Citation  No Action  No Date  \\\n",
       "driver_race                                                                   \n",
       "Asian                    36                 5      2104         13       11   \n",
       "Black                   599               105     10421         79      119   \n",
       "Hispanic                499                66      8053         92       75   \n",
       "Other                     1                 1       216          3        2   \n",
       "White                  1432               181     56027        376      383   \n",
       "\n",
       "stop_outcome  Warning  \n",
       "driver_race            \n",
       "Asian              84  \n",
       "Black             874  \n",
       "Hispanic          692  \n",
       "Other              16  \n",
       "White            3548  "
      ]
     },
     "execution_count": 29,
     "metadata": {},
     "output_type": "execute_result"
    }
   ],
   "source": [
    "drive=df.groupby([\"driver_race\",\"stop_outcome\"]).stop_time.count().unstack()\n",
    "drive"
   ]
  },
  {
   "cell_type": "code",
   "execution_count": 30,
   "id": "1b1df925-dbf8-4d92-b48b-6279d4d0edeb",
   "metadata": {},
   "outputs": [
    {
     "data": {
      "text/html": [
       "<div>\n",
       "<style scoped>\n",
       "    .dataframe tbody tr th:only-of-type {\n",
       "        vertical-align: middle;\n",
       "    }\n",
       "\n",
       "    .dataframe tbody tr th {\n",
       "        vertical-align: top;\n",
       "    }\n",
       "\n",
       "    .dataframe thead th {\n",
       "        text-align: right;\n",
       "    }\n",
       "</style>\n",
       "<table border=\"1\" class=\"dataframe\">\n",
       "  <thead>\n",
       "    <tr style=\"text-align: right;\">\n",
       "      <th>stop_outcome</th>\n",
       "      <th>Arrest Driver</th>\n",
       "      <th>Arrest Passenger</th>\n",
       "      <th>Citation</th>\n",
       "      <th>No Action</th>\n",
       "      <th>No Date</th>\n",
       "      <th>Warning</th>\n",
       "    </tr>\n",
       "    <tr>\n",
       "      <th>driver_race</th>\n",
       "      <th></th>\n",
       "      <th></th>\n",
       "      <th></th>\n",
       "      <th></th>\n",
       "      <th></th>\n",
       "      <th></th>\n",
       "    </tr>\n",
       "  </thead>\n",
       "  <tbody>\n",
       "    <tr>\n",
       "      <th>Black</th>\n",
       "      <td>599</td>\n",
       "      <td>105</td>\n",
       "      <td>10421</td>\n",
       "      <td>79</td>\n",
       "      <td>119</td>\n",
       "      <td>874</td>\n",
       "    </tr>\n",
       "    <tr>\n",
       "      <th>White</th>\n",
       "      <td>1432</td>\n",
       "      <td>181</td>\n",
       "      <td>56027</td>\n",
       "      <td>376</td>\n",
       "      <td>383</td>\n",
       "      <td>3548</td>\n",
       "    </tr>\n",
       "  </tbody>\n",
       "</table>\n",
       "</div>"
      ],
      "text/plain": [
       "stop_outcome  Arrest Driver  Arrest Passenger  Citation  No Action  No Date  \\\n",
       "driver_race                                                                   \n",
       "Black                   599               105     10421         79      119   \n",
       "White                  1432               181     56027        376      383   \n",
       "\n",
       "stop_outcome  Warning  \n",
       "driver_race            \n",
       "Black             874  \n",
       "White            3548  "
      ]
     },
     "execution_count": 30,
     "metadata": {},
     "output_type": "execute_result"
    }
   ],
   "source": [
    "taco=drive.loc[[\"Black\",\"White\"]]\n",
    "taco"
   ]
  },
  {
   "cell_type": "code",
   "execution_count": 31,
   "id": "ee768494-2564-4bf2-8cf3-80c436d7def0",
   "metadata": {},
   "outputs": [],
   "source": [
    "mt.style.use(\"dark_background\")"
   ]
  },
  {
   "cell_type": "code",
   "execution_count": 32,
   "id": "68f97974-9ca6-4617-9303-581a4ea5c106",
   "metadata": {},
   "outputs": [
    {
     "data": {
      "image/png": "[encoded data removed]",
      "text/plain": [
       "<Figure size 1000x500 with 1 Axes>"
      ]
     },
     "metadata": {},
     "output_type": "display_data"
    }
   ],
   "source": [
    "taco.plot(figsize=(10,5),kind='barh',linewidth=1)\n",
    "\n",
    "\n",
    "mt.title(\"Black v/s White\",fontweight='bold',size=17)\n",
    "mt.xticks(rotation=0,fontweight='bold',size=13)\n",
    "mt.xlabel(\"Numbers\",fontweight='bold',size=12)\n",
    "mt.yticks(fontweight='bold',size=13)\n",
    "mt.ylabel(\"Driver Race\",fontweight='bold',size=12)\n",
    "mt.grid(\"lines\")\n"
   ]
  },
  {
   "cell_type": "code",
   "execution_count": 33,
   "id": "1c64c63d-9b48-455c-b410-8df502ca939b",
   "metadata": {},
   "outputs": [],
   "source": [
    "mt.style.use(\"default\")"
   ]
  },
  {
   "cell_type": "code",
   "execution_count": 34,
   "id": "9e3d2751-f83e-4e79-82fc-ea92d116bd6b",
   "metadata": {},
   "outputs": [
    {
     "data": {
      "text/html": [
       "<div>\n",
       "<style scoped>\n",
       "    .dataframe tbody tr th:only-of-type {\n",
       "        vertical-align: middle;\n",
       "    }\n",
       "\n",
       "    .dataframe tbody tr th {\n",
       "        vertical-align: top;\n",
       "    }\n",
       "\n",
       "    .dataframe thead th {\n",
       "        text-align: right;\n",
       "    }\n",
       "</style>\n",
       "<table border=\"1\" class=\"dataframe\">\n",
       "  <thead>\n",
       "    <tr style=\"text-align: right;\">\n",
       "      <th>search_conducted</th>\n",
       "      <th>False</th>\n",
       "      <th>True</th>\n",
       "    </tr>\n",
       "    <tr>\n",
       "      <th>driver_gender</th>\n",
       "      <th></th>\n",
       "      <th></th>\n",
       "    </tr>\n",
       "  </thead>\n",
       "  <tbody>\n",
       "    <tr>\n",
       "      <th>F</th>\n",
       "      <td>22993</td>\n",
       "      <td>471</td>\n",
       "    </tr>\n",
       "    <tr>\n",
       "      <th>M</th>\n",
       "      <td>59927</td>\n",
       "      <td>2722</td>\n",
       "    </tr>\n",
       "  </tbody>\n",
       "</table>\n",
       "</div>"
      ],
      "text/plain": [
       "search_conducted  False  True \n",
       "driver_gender                 \n",
       "F                 22993    471\n",
       "M                 59927   2722"
      ]
     },
     "execution_count": 34,
     "metadata": {},
     "output_type": "execute_result"
    }
   ],
   "source": [
    "tr=df.groupby([\"driver_gender\",'search_conducted']).stop_time.count().unstack()\n",
    "tr"
   ]
  },
  {
   "cell_type": "code",
   "execution_count": 166,
   "id": "2fa21ae0-60f6-455e-a81f-ba314b5f6b76",
   "metadata": {},
   "outputs": [
    {
     "data": {
      "image/png": "[encoded data removed]",
      "text/plain": [
       "<Figure size 640x480 with 1 Axes>"
      ]
     },
     "metadata": {},
     "output_type": "display_data"
    }
   ],
   "source": [
    "tr.plot(kind=\"bar\",color=['darkslategrey','skyblue'])\n",
    "mt.title(\"Search Conduct Based on Gender\",fontweight='bold',size=15)\n",
    "mt.xticks(rotation=0,fontweight='bold',size=15)\n",
    "mt.xlabel(\"Gender\",fontweight='bold',size=10)\n",
    "mt.ylabel(\"Numbers\",fontweight='bold',size=10)\n",
    "mt.yticks(fontweight='bold',size=15)\n",
    "mt.savefig(r'C:\\Users\\hp\\OneDrive\\Desktop\\Search Conduct Based on Gender.jpeg')"
   ]
  },
  {
   "cell_type": "code",
   "execution_count": 36,
   "id": "156577a7-aca5-4460-b36b-4c0396c17563",
   "metadata": {},
   "outputs": [
    {
     "data": {
      "text/plain": [
       "driver_race\n",
       "White       61947\n",
       "Black       12197\n",
       "Hispanic     9477\n",
       "Asian        2253\n",
       "Other         239\n",
       "Name: drugs_related_stop, dtype: int64"
      ]
     },
     "execution_count": 36,
     "metadata": {},
     "output_type": "execute_result"
    }
   ],
   "source": [
    "drug=df.groupby(\"driver_race\").drugs_related_stop.count().sort_values(ascending=False)\n",
    "drug"
   ]
  },
  {
   "cell_type": "code",
   "execution_count": 37,
   "id": "cbf66927-b610-44c4-9e1a-41b53b6ac929",
   "metadata": {},
   "outputs": [
    {
     "data": {
      "text/html": [
       "<style type=\"text/css\">\n",
       "#T_f497f_row0_col0 {\n",
       "  background-color: #8caef6;\n",
       "  color: #000000;\n",
       "}\n",
       "#T_f497f_row0_col1 {\n",
       "  background-color: #93affa;\n",
       "  color: #000000;\n",
       "}\n",
       "#T_f497f_row1_col0 {\n",
       "  background-color: #3584aa;\n",
       "  color: #f1f1f1;\n",
       "}\n",
       "#T_f497f_row1_col1 {\n",
       "  background-color: #101f26;\n",
       "  color: #f1f1f1;\n",
       "}\n",
       "#T_f497f_row2_col0 {\n",
       "  background-color: #4497c6;\n",
       "  color: #f1f1f1;\n",
       "}\n",
       "#T_f497f_row2_col1 {\n",
       "  background-color: #26627f;\n",
       "  color: #f1f1f1;\n",
       "}\n",
       "#T_f497f_row3_col0, #T_f497f_row3_col1 {\n",
       "  background-color: #9eb0ff;\n",
       "  color: #000000;\n",
       "}\n",
       "#T_f497f_row4_col0, #T_f497f_row4_col1 {\n",
       "  background-color: #ffadad;\n",
       "  color: #000000;\n",
       "}\n",
       "</style>\n",
       "<table id=\"T_f497f\">\n",
       "  <thead>\n",
       "    <tr>\n",
       "      <th class=\"index_name level0\" >drugs_related_stop</th>\n",
       "      <th id=\"T_f497f_level0_col0\" class=\"col_heading level0 col0\" >False</th>\n",
       "      <th id=\"T_f497f_level0_col1\" class=\"col_heading level0 col1\" >True</th>\n",
       "    </tr>\n",
       "    <tr>\n",
       "      <th class=\"index_name level0\" >driver_race</th>\n",
       "      <th class=\"blank col0\" >&nbsp;</th>\n",
       "      <th class=\"blank col1\" >&nbsp;</th>\n",
       "    </tr>\n",
       "  </thead>\n",
       "  <tbody>\n",
       "    <tr>\n",
       "      <th id=\"T_f497f_level0_row0\" class=\"row_heading level0 row0\" >Asian</th>\n",
       "      <td id=\"T_f497f_row0_col0\" class=\"data row0 col0\" >2242</td>\n",
       "      <td id=\"T_f497f_row0_col1\" class=\"data row0 col1\" >11</td>\n",
       "    </tr>\n",
       "    <tr>\n",
       "      <th id=\"T_f497f_level0_row1\" class=\"row_heading level0 row1\" >Black</th>\n",
       "      <td id=\"T_f497f_row1_col0\" class=\"data row1 col0\" >11996</td>\n",
       "      <td id=\"T_f497f_row1_col1\" class=\"data row1 col1\" >201</td>\n",
       "    </tr>\n",
       "    <tr>\n",
       "      <th id=\"T_f497f_level0_row2\" class=\"row_heading level0 row2\" >Hispanic</th>\n",
       "      <td id=\"T_f497f_row2_col0\" class=\"data row2 col0\" >9351</td>\n",
       "      <td id=\"T_f497f_row2_col1\" class=\"data row2 col1\" >126</td>\n",
       "    </tr>\n",
       "    <tr>\n",
       "      <th id=\"T_f497f_level0_row3\" class=\"row_heading level0 row3\" >Other</th>\n",
       "      <td id=\"T_f497f_row3_col0\" class=\"data row3 col0\" >238</td>\n",
       "      <td id=\"T_f497f_row3_col1\" class=\"data row3 col1\" >1</td>\n",
       "    </tr>\n",
       "    <tr>\n",
       "      <th id=\"T_f497f_level0_row4\" class=\"row_heading level0 row4\" >White</th>\n",
       "      <td id=\"T_f497f_row4_col0\" class=\"data row4 col0\" >61472</td>\n",
       "      <td id=\"T_f497f_row4_col1\" class=\"data row4 col1\" >475</td>\n",
       "    </tr>\n",
       "  </tbody>\n",
       "</table>\n"
      ],
      "text/plain": [
       "<pandas.io.formats.style.Styler at 0xf748e9b620>"
      ]
     },
     "execution_count": 37,
     "metadata": {},
     "output_type": "execute_result"
    }
   ],
   "source": [
    "dru=df.groupby([\"driver_race\",\"drugs_related_stop\"]).size().unstack()\n",
    "dru.style.background_gradient(cmap='berlin')"
   ]
  },
  {
   "cell_type": "code",
   "execution_count": 38,
   "id": "112eae3b-1855-4074-afce-d312eb4a8959",
   "metadata": {},
   "outputs": [],
   "source": [
    "mt.style.use(\"default\")"
   ]
  },
  {
   "cell_type": "code",
   "execution_count": 39,
   "id": "a613fbc2-0064-4230-8068-33443f26e902",
   "metadata": {},
   "outputs": [
    {
     "data": {
      "text/html": [
       "<style type=\"text/css\">\n",
       "#T_60848_row0_col0, #T_60848_row0_col1, #T_60848_row3_col0, #T_60848_row3_col1 {\n",
       "  background-color: #8dd3c7;\n",
       "  color: #000000;\n",
       "}\n",
       "#T_60848_row1_col0 {\n",
       "  background-color: #bebada;\n",
       "  color: #000000;\n",
       "}\n",
       "#T_60848_row1_col1 {\n",
       "  background-color: #fdb462;\n",
       "  color: #000000;\n",
       "}\n",
       "#T_60848_row2_col0 {\n",
       "  background-color: #ffffb3;\n",
       "  color: #000000;\n",
       "}\n",
       "#T_60848_row2_col1 {\n",
       "  background-color: #80b1d3;\n",
       "  color: #f1f1f1;\n",
       "}\n",
       "#T_60848_row4_col0, #T_60848_row4_col1 {\n",
       "  background-color: #ffed6f;\n",
       "  color: #000000;\n",
       "}\n",
       "</style>\n",
       "<table id=\"T_60848\">\n",
       "  <thead>\n",
       "    <tr>\n",
       "      <th class=\"index_name level0\" >is_arrested</th>\n",
       "      <th id=\"T_60848_level0_col0\" class=\"col_heading level0 col0\" >False</th>\n",
       "      <th id=\"T_60848_level0_col1\" class=\"col_heading level0 col1\" >True</th>\n",
       "    </tr>\n",
       "    <tr>\n",
       "      <th class=\"index_name level0\" >driver_race</th>\n",
       "      <th class=\"blank col0\" >&nbsp;</th>\n",
       "      <th class=\"blank col1\" >&nbsp;</th>\n",
       "    </tr>\n",
       "  </thead>\n",
       "  <tbody>\n",
       "    <tr>\n",
       "      <th id=\"T_60848_level0_row0\" class=\"row_heading level0 row0\" >Asian</th>\n",
       "      <td id=\"T_60848_row0_col0\" class=\"data row0 col0\" >2212</td>\n",
       "      <td id=\"T_60848_row0_col1\" class=\"data row0 col1\" >41</td>\n",
       "    </tr>\n",
       "    <tr>\n",
       "      <th id=\"T_60848_level0_row1\" class=\"row_heading level0 row1\" >Black</th>\n",
       "      <td id=\"T_60848_row1_col0\" class=\"data row1 col0\" >11493</td>\n",
       "      <td id=\"T_60848_row1_col1\" class=\"data row1 col1\" >704</td>\n",
       "    </tr>\n",
       "    <tr>\n",
       "      <th id=\"T_60848_level0_row2\" class=\"row_heading level0 row2\" >Hispanic</th>\n",
       "      <td id=\"T_60848_row2_col0\" class=\"data row2 col0\" >8912</td>\n",
       "      <td id=\"T_60848_row2_col1\" class=\"data row2 col1\" >565</td>\n",
       "    </tr>\n",
       "    <tr>\n",
       "      <th id=\"T_60848_level0_row3\" class=\"row_heading level0 row3\" >Other</th>\n",
       "      <td id=\"T_60848_row3_col0\" class=\"data row3 col0\" >237</td>\n",
       "      <td id=\"T_60848_row3_col1\" class=\"data row3 col1\" >2</td>\n",
       "    </tr>\n",
       "    <tr>\n",
       "      <th id=\"T_60848_level0_row4\" class=\"row_heading level0 row4\" >White</th>\n",
       "      <td id=\"T_60848_row4_col0\" class=\"data row4 col0\" >60334</td>\n",
       "      <td id=\"T_60848_row4_col1\" class=\"data row4 col1\" >1613</td>\n",
       "    </tr>\n",
       "  </tbody>\n",
       "</table>\n"
      ],
      "text/plain": [
       "<pandas.io.formats.style.Styler at 0xf748df4e10>"
      ]
     },
     "execution_count": 39,
     "metadata": {},
     "output_type": "execute_result"
    }
   ],
   "source": [
    "dar=df.groupby([\"driver_race\",\"is_arrested\"]).stop_time.count().unstack()\n",
    "dar.style.background_gradient(cmap=\"Set3\")"
   ]
  },
  {
   "cell_type": "code",
   "execution_count": 40,
   "id": "e603d583-e6d3-4195-a85c-f5029fa3a393",
   "metadata": {},
   "outputs": [],
   "source": [
    "# dar.plot(kind='barh',color=[\"orangered\",\"black\"])\n",
    "# mt.title(\"Arrested Result Based on Driver Race\",fontweight='bold',size=15)\n",
    "# mt.xticks(fontweight='bold',size=10)\n",
    "# mt.yticks(fontweight='bold',size=15)\n",
    "# mt.ylabel(\" \")"
   ]
  },
  {
   "cell_type": "code",
   "execution_count": 41,
   "id": "c9364ac9-9303-42f5-afac-2f9705e43fe3",
   "metadata": {},
   "outputs": [
    {
     "data": {
      "text/html": [
       "<style type=\"text/css\">\n",
       "#T_b71df_row0_col0, #T_b71df_row2_col1, #T_b71df_row3_col1 {\n",
       "  background-color: #00234f;\n",
       "  color: #f1f1f1;\n",
       "}\n",
       "#T_b71df_row0_col1, #T_b71df_row14_col0, #T_b71df_row16_col0 {\n",
       "  background-color: #002553;\n",
       "  color: #f1f1f1;\n",
       "}\n",
       "#T_b71df_row1_col0, #T_b71df_row10_col0 {\n",
       "  background-color: #002451;\n",
       "  color: #f1f1f1;\n",
       "}\n",
       "#T_b71df_row1_col1, #T_b71df_row8_col0 {\n",
       "  background-color: #002656;\n",
       "  color: #f1f1f1;\n",
       "}\n",
       "#T_b71df_row2_col0, #T_b71df_row3_col0, #T_b71df_row4_col0, #T_b71df_row4_col1, #T_b71df_row18_col0, #T_b71df_row19_col0, #T_b71df_row19_col1, #T_b71df_row20_col0, #T_b71df_row21_col0, #T_b71df_row21_col1, #T_b71df_row22_col0, #T_b71df_row23_col0 {\n",
       "  background-color: #00224e;\n",
       "  color: #f1f1f1;\n",
       "}\n",
       "#T_b71df_row5_col0 {\n",
       "  background-color: #002a5f;\n",
       "  color: #f1f1f1;\n",
       "}\n",
       "#T_b71df_row5_col1 {\n",
       "  background-color: #002758;\n",
       "  color: #f1f1f1;\n",
       "}\n",
       "#T_b71df_row6_col0, #T_b71df_row12_col0 {\n",
       "  background-color: #002c64;\n",
       "  color: #f1f1f1;\n",
       "}\n",
       "#T_b71df_row6_col1 {\n",
       "  background-color: #636670;\n",
       "  color: #f1f1f1;\n",
       "}\n",
       "#T_b71df_row7_col0, #T_b71df_row28_col1 {\n",
       "  background-color: #002e6c;\n",
       "  color: #f1f1f1;\n",
       "}\n",
       "#T_b71df_row7_col1 {\n",
       "  background-color: #6c6e72;\n",
       "  color: #f1f1f1;\n",
       "}\n",
       "#T_b71df_row8_col1 {\n",
       "  background-color: #003170;\n",
       "  color: #f1f1f1;\n",
       "}\n",
       "#T_b71df_row9_col0, #T_b71df_row15_col0 {\n",
       "  background-color: #002554;\n",
       "  color: #f1f1f1;\n",
       "}\n",
       "#T_b71df_row9_col1 {\n",
       "  background-color: #32436d;\n",
       "  color: #f1f1f1;\n",
       "}\n",
       "#T_b71df_row10_col1 {\n",
       "  background-color: #002859;\n",
       "  color: #f1f1f1;\n",
       "}\n",
       "#T_b71df_row11_col0 {\n",
       "  background-color: #1a386f;\n",
       "  color: #f1f1f1;\n",
       "}\n",
       "#T_b71df_row11_col1 {\n",
       "  background-color: #4d556c;\n",
       "  color: #f1f1f1;\n",
       "}\n",
       "#T_b71df_row12_col1 {\n",
       "  background-color: #48526c;\n",
       "  color: #f1f1f1;\n",
       "}\n",
       "#T_b71df_row13_col0 {\n",
       "  background-color: #002c66;\n",
       "  color: #f1f1f1;\n",
       "}\n",
       "#T_b71df_row13_col1 {\n",
       "  background-color: #5e636f;\n",
       "  color: #f1f1f1;\n",
       "}\n",
       "#T_b71df_row14_col1 {\n",
       "  background-color: #1e3a6f;\n",
       "  color: #f1f1f1;\n",
       "}\n",
       "#T_b71df_row15_col1 {\n",
       "  background-color: #213b6e;\n",
       "  color: #f1f1f1;\n",
       "}\n",
       "#T_b71df_row16_col1, #T_b71df_row27_col0 {\n",
       "  background-color: #002a61;\n",
       "  color: #f1f1f1;\n",
       "}\n",
       "#T_b71df_row17_col0 {\n",
       "  background-color: #003070;\n",
       "  color: #f1f1f1;\n",
       "}\n",
       "#T_b71df_row17_col1 {\n",
       "  background-color: #2a3f6d;\n",
       "  color: #f1f1f1;\n",
       "}\n",
       "#T_b71df_row18_col1, #T_b71df_row20_col1, #T_b71df_row22_col1, #T_b71df_row23_col1 {\n",
       "  background-color: #000000;\n",
       "  color: #f1f1f1;\n",
       "}\n",
       "#T_b71df_row24_col0 {\n",
       "  background-color: #293f6e;\n",
       "  color: #f1f1f1;\n",
       "}\n",
       "#T_b71df_row24_col1 {\n",
       "  background-color: #938e78;\n",
       "  color: #f1f1f1;\n",
       "}\n",
       "#T_b71df_row25_col0 {\n",
       "  background-color: #46516c;\n",
       "  color: #f1f1f1;\n",
       "}\n",
       "#T_b71df_row25_col1, #T_b71df_row29_col0 {\n",
       "  background-color: #fee838;\n",
       "  color: #000000;\n",
       "}\n",
       "#T_b71df_row26_col0 {\n",
       "  background-color: #002e6a;\n",
       "  color: #f1f1f1;\n",
       "}\n",
       "#T_b71df_row26_col1 {\n",
       "  background-color: #727274;\n",
       "  color: #f1f1f1;\n",
       "}\n",
       "#T_b71df_row27_col1 {\n",
       "  background-color: #555c6d;\n",
       "  color: #f1f1f1;\n",
       "}\n",
       "#T_b71df_row28_col0 {\n",
       "  background-color: #002b62;\n",
       "  color: #f1f1f1;\n",
       "}\n",
       "#T_b71df_row29_col1 {\n",
       "  background-color: #c6b667;\n",
       "  color: #000000;\n",
       "}\n",
       "</style>\n",
       "<table id=\"T_b71df\">\n",
       "  <thead>\n",
       "    <tr>\n",
       "      <th class=\"blank\" >&nbsp;</th>\n",
       "      <th class=\"index_name level0\" >is_arrested</th>\n",
       "      <th id=\"T_b71df_level0_col0\" class=\"col_heading level0 col0\" >False</th>\n",
       "      <th id=\"T_b71df_level0_col1\" class=\"col_heading level0 col1\" >True</th>\n",
       "    </tr>\n",
       "    <tr>\n",
       "      <th class=\"index_name level0\" >driver_race</th>\n",
       "      <th class=\"index_name level1\" >violation</th>\n",
       "      <th class=\"blank col0\" >&nbsp;</th>\n",
       "      <th class=\"blank col1\" >&nbsp;</th>\n",
       "    </tr>\n",
       "  </thead>\n",
       "  <tbody>\n",
       "    <tr>\n",
       "      <th id=\"T_b71df_level0_row0\" class=\"row_heading level0 row0\" rowspan=\"6\">Asian</th>\n",
       "      <th id=\"T_b71df_level1_row0\" class=\"row_heading level1 row0\" >Equipment</th>\n",
       "      <td id=\"T_b71df_row0_col0\" class=\"data row0 col0\" >193.000000</td>\n",
       "      <td id=\"T_b71df_row0_col1\" class=\"data row0 col1\" >8.000000</td>\n",
       "    </tr>\n",
       "    <tr>\n",
       "      <th id=\"T_b71df_level1_row1\" class=\"row_heading level1 row1\" >Moving violation</th>\n",
       "      <td id=\"T_b71df_row1_col0\" class=\"data row1 col0\" >322.000000</td>\n",
       "      <td id=\"T_b71df_row1_col1\" class=\"data row1 col1\" >12.000000</td>\n",
       "    </tr>\n",
       "    <tr>\n",
       "      <th id=\"T_b71df_level1_row2\" class=\"row_heading level1 row2\" >Other</th>\n",
       "      <td id=\"T_b71df_row2_col0\" class=\"data row2 col0\" >74.000000</td>\n",
       "      <td id=\"T_b71df_row2_col1\" class=\"data row2 col1\" >3.000000</td>\n",
       "    </tr>\n",
       "    <tr>\n",
       "      <th id=\"T_b71df_level1_row3\" class=\"row_heading level1 row3\" >Registration/plates</th>\n",
       "      <td id=\"T_b71df_row3_col0\" class=\"data row3 col0\" >55.000000</td>\n",
       "      <td id=\"T_b71df_row3_col1\" class=\"data row3 col1\" >3.000000</td>\n",
       "    </tr>\n",
       "    <tr>\n",
       "      <th id=\"T_b71df_level1_row4\" class=\"row_heading level1 row4\" >Seat belt</th>\n",
       "      <td id=\"T_b71df_row4_col0\" class=\"data row4 col0\" >57.000000</td>\n",
       "      <td id=\"T_b71df_row4_col1\" class=\"data row4 col1\" >1.000000</td>\n",
       "    </tr>\n",
       "    <tr>\n",
       "      <th id=\"T_b71df_level1_row5\" class=\"row_heading level1 row5\" >Speeding</th>\n",
       "      <td id=\"T_b71df_row5_col0\" class=\"data row5 col0\" >1511.000000</td>\n",
       "      <td id=\"T_b71df_row5_col1\" class=\"data row5 col1\" >14.000000</td>\n",
       "    </tr>\n",
       "    <tr>\n",
       "      <th id=\"T_b71df_level0_row6\" class=\"row_heading level0 row6\" rowspan=\"6\">Black</th>\n",
       "      <th id=\"T_b71df_level1_row6\" class=\"row_heading level1 row6\" >Equipment</th>\n",
       "      <td id=\"T_b71df_row6_col0\" class=\"data row6 col0\" >2009.000000</td>\n",
       "      <td id=\"T_b71df_row6_col1\" class=\"data row6 col1\" >193.000000</td>\n",
       "    </tr>\n",
       "    <tr>\n",
       "      <th id=\"T_b71df_level1_row7\" class=\"row_heading level1 row7\" >Moving violation</th>\n",
       "      <td id=\"T_b71df_row7_col0\" class=\"data row7 col0\" >2658.000000</td>\n",
       "      <td id=\"T_b71df_row7_col1\" class=\"data row7 col1\" >213.000000</td>\n",
       "    </tr>\n",
       "    <tr>\n",
       "      <th id=\"T_b71df_level1_row8\" class=\"row_heading level1 row8\" >Other</th>\n",
       "      <td id=\"T_b71df_row8_col0\" class=\"data row8 col0\" >825.000000</td>\n",
       "      <td id=\"T_b71df_row8_col1\" class=\"data row8 col1\" >42.000000</td>\n",
       "    </tr>\n",
       "    <tr>\n",
       "      <th id=\"T_b71df_level1_row9\" class=\"row_heading level1 row9\" >Registration/plates</th>\n",
       "      <td id=\"T_b71df_row9_col0\" class=\"data row9 col0\" >687.000000</td>\n",
       "      <td id=\"T_b71df_row9_col1\" class=\"data row9 col1\" >96.000000</td>\n",
       "    </tr>\n",
       "    <tr>\n",
       "      <th id=\"T_b71df_level1_row10\" class=\"row_heading level1 row10\" >Seat belt</th>\n",
       "      <td id=\"T_b71df_row10_col0\" class=\"data row10 col0\" >435.000000</td>\n",
       "      <td id=\"T_b71df_row10_col1\" class=\"data row10 col1\" >15.000000</td>\n",
       "    </tr>\n",
       "    <tr>\n",
       "      <th id=\"T_b71df_level1_row11\" class=\"row_heading level1 row11\" >Speeding</th>\n",
       "      <td id=\"T_b71df_row11_col0\" class=\"data row11 col0\" >4879.000000</td>\n",
       "      <td id=\"T_b71df_row11_col1\" class=\"data row11 col1\" >145.000000</td>\n",
       "    </tr>\n",
       "    <tr>\n",
       "      <th id=\"T_b71df_level0_row12\" class=\"row_heading level0 row12\" rowspan=\"6\">Hispanic</th>\n",
       "      <th id=\"T_b71df_level1_row12\" class=\"row_heading level1 row12\" >Equipment</th>\n",
       "      <td id=\"T_b71df_row12_col0\" class=\"data row12 col0\" >2007.000000</td>\n",
       "      <td id=\"T_b71df_row12_col1\" class=\"data row12 col1\" >136.000000</td>\n",
       "    </tr>\n",
       "    <tr>\n",
       "      <th id=\"T_b71df_level1_row13\" class=\"row_heading level1 row13\" >Moving violation</th>\n",
       "      <td id=\"T_b71df_row13_col0\" class=\"data row13 col0\" >2222.000000</td>\n",
       "      <td id=\"T_b71df_row13_col1\" class=\"data row13 col1\" >183.000000</td>\n",
       "    </tr>\n",
       "    <tr>\n",
       "      <th id=\"T_b71df_level1_row14\" class=\"row_heading level1 row14\" >Other</th>\n",
       "      <td id=\"T_b71df_row14_col0\" class=\"data row14 col0\" >507.000000</td>\n",
       "      <td id=\"T_b71df_row14_col1\" class=\"data row14 col1\" >68.000000</td>\n",
       "    </tr>\n",
       "    <tr>\n",
       "      <th id=\"T_b71df_level1_row15\" class=\"row_heading level1 row15\" >Registration/plates</th>\n",
       "      <td id=\"T_b71df_row15_col0\" class=\"data row15 col0\" >645.000000</td>\n",
       "      <td id=\"T_b71df_row15_col1\" class=\"data row15 col1\" >71.000000</td>\n",
       "    </tr>\n",
       "    <tr>\n",
       "      <th id=\"T_b71df_level1_row16\" class=\"row_heading level1 row16\" >Seat belt</th>\n",
       "      <td id=\"T_b71df_row16_col0\" class=\"data row16 col0\" >528.000000</td>\n",
       "      <td id=\"T_b71df_row16_col1\" class=\"data row16 col1\" >23.000000</td>\n",
       "    </tr>\n",
       "    <tr>\n",
       "      <th id=\"T_b71df_level1_row17\" class=\"row_heading level1 row17\" >Speeding</th>\n",
       "      <td id=\"T_b71df_row17_col0\" class=\"data row17 col0\" >3003.000000</td>\n",
       "      <td id=\"T_b71df_row17_col1\" class=\"data row17 col1\" >84.000000</td>\n",
       "    </tr>\n",
       "    <tr>\n",
       "      <th id=\"T_b71df_level0_row18\" class=\"row_heading level0 row18\" rowspan=\"6\">Other</th>\n",
       "      <th id=\"T_b71df_level1_row18\" class=\"row_heading level1 row18\" >Equipment</th>\n",
       "      <td id=\"T_b71df_row18_col0\" class=\"data row18 col0\" >16.000000</td>\n",
       "      <td id=\"T_b71df_row18_col1\" class=\"data row18 col1\" >nan</td>\n",
       "    </tr>\n",
       "    <tr>\n",
       "      <th id=\"T_b71df_level1_row19\" class=\"row_heading level1 row19\" >Moving violation</th>\n",
       "      <td id=\"T_b71df_row19_col0\" class=\"data row19 col0\" >50.000000</td>\n",
       "      <td id=\"T_b71df_row19_col1\" class=\"data row19 col1\" >1.000000</td>\n",
       "    </tr>\n",
       "    <tr>\n",
       "      <th id=\"T_b71df_level1_row20\" class=\"row_heading level1 row20\" >Other</th>\n",
       "      <td id=\"T_b71df_row20_col0\" class=\"data row20 col0\" >21.000000</td>\n",
       "      <td id=\"T_b71df_row20_col1\" class=\"data row20 col1\" >nan</td>\n",
       "    </tr>\n",
       "    <tr>\n",
       "      <th id=\"T_b71df_level1_row21\" class=\"row_heading level1 row21\" >Registration/plates</th>\n",
       "      <td id=\"T_b71df_row21_col0\" class=\"data row21 col0\" >1.000000</td>\n",
       "      <td id=\"T_b71df_row21_col1\" class=\"data row21 col1\" >1.000000</td>\n",
       "    </tr>\n",
       "    <tr>\n",
       "      <th id=\"T_b71df_level1_row22\" class=\"row_heading level1 row22\" >Seat belt</th>\n",
       "      <td id=\"T_b71df_row22_col0\" class=\"data row22 col0\" >2.000000</td>\n",
       "      <td id=\"T_b71df_row22_col1\" class=\"data row22 col1\" >nan</td>\n",
       "    </tr>\n",
       "    <tr>\n",
       "      <th id=\"T_b71df_level1_row23\" class=\"row_heading level1 row23\" >Speeding</th>\n",
       "      <td id=\"T_b71df_row23_col0\" class=\"data row23 col0\" >147.000000</td>\n",
       "      <td id=\"T_b71df_row23_col1\" class=\"data row23 col1\" >nan</td>\n",
       "    </tr>\n",
       "    <tr>\n",
       "      <th id=\"T_b71df_level0_row24\" class=\"row_heading level0 row24\" rowspan=\"6\">White</th>\n",
       "      <th id=\"T_b71df_level1_row24\" class=\"row_heading level1 row24\" >Equipment</th>\n",
       "      <td id=\"T_b71df_row24_col0\" class=\"data row24 col0\" >6147.000000</td>\n",
       "      <td id=\"T_b71df_row24_col1\" class=\"data row24 col1\" >298.000000</td>\n",
       "    </tr>\n",
       "    <tr>\n",
       "      <th id=\"T_b71df_level1_row25\" class=\"row_heading level1 row25\" >Moving violation</th>\n",
       "      <td id=\"T_b71df_row25_col0\" class=\"data row25 col0\" >10005.000000</td>\n",
       "      <td id=\"T_b71df_row25_col1\" class=\"data row25 col1\" >498.000000</td>\n",
       "    </tr>\n",
       "    <tr>\n",
       "      <th id=\"T_b71df_level1_row26\" class=\"row_heading level1 row26\" >Other</th>\n",
       "      <td id=\"T_b71df_row26_col0\" class=\"data row26 col0\" >2439.000000</td>\n",
       "      <td id=\"T_b71df_row26_col1\" class=\"data row26 col1\" >225.000000</td>\n",
       "    </tr>\n",
       "    <tr>\n",
       "      <th id=\"T_b71df_level1_row27\" class=\"row_heading level1 row27\" >Registration/plates</th>\n",
       "      <td id=\"T_b71df_row27_col0\" class=\"data row27 col0\" >1705.000000</td>\n",
       "      <td id=\"T_b71df_row27_col1\" class=\"data row27 col1\" >163.000000</td>\n",
       "    </tr>\n",
       "    <tr>\n",
       "      <th id=\"T_b71df_level1_row28\" class=\"row_heading level1 row28\" >Seat belt</th>\n",
       "      <td id=\"T_b71df_row28_col0\" class=\"data row28 col0\" >1856.000000</td>\n",
       "      <td id=\"T_b71df_row28_col1\" class=\"data row28 col1\" >35.000000</td>\n",
       "    </tr>\n",
       "    <tr>\n",
       "      <th id=\"T_b71df_level1_row29\" class=\"row_heading level1 row29\" >Speeding</th>\n",
       "      <td id=\"T_b71df_row29_col0\" class=\"data row29 col0\" >38182.000000</td>\n",
       "      <td id=\"T_b71df_row29_col1\" class=\"data row29 col1\" >394.000000</td>\n",
       "    </tr>\n",
       "  </tbody>\n",
       "</table>\n"
      ],
      "text/plain": [
       "<pandas.io.formats.style.Styler at 0xf748f31e50>"
      ]
     },
     "execution_count": 41,
     "metadata": {},
     "output_type": "execute_result"
    }
   ],
   "source": [
    "arr=df.groupby([\"driver_race\",\"violation\",'is_arrested']).stop_time.size().unstack()\n",
    "arr.style.background_gradient(cmap=\"cividis\")"
   ]
  },
  {
   "cell_type": "code",
   "execution_count": 42,
   "id": "2cf67828-5db2-4c45-a9ef-f3f154d6b920",
   "metadata": {},
   "outputs": [
    {
     "data": {
      "text/plain": [
       "violation_raw\n",
       "APB                                    78\n",
       "Call for Service                     1288\n",
       "Equipment/Inspection Violation      11007\n",
       "Motorist Assist/Courtesy              189\n",
       "Other Traffic Violation             16164\n",
       "Registration Violation               3427\n",
       "Seatbelt Violation                   2952\n",
       "Special Detail/Directed Patrol       2369\n",
       "Speeding                            48359\n",
       "Suspicious Person                      54\n",
       "Violation of City/Town Ordinance      211\n",
       "Warrant                                15\n",
       "Name: stop_date, dtype: int64"
      ]
     },
     "execution_count": 42,
     "metadata": {},
     "output_type": "execute_result"
    }
   ],
   "source": [
    "r=df.groupby('violation_raw').stop_date.count()\n",
    "r"
   ]
  },
  {
   "cell_type": "code",
   "execution_count": 43,
   "id": "e25251ad-4860-4f6a-aa34-f6a9e0775fe7",
   "metadata": {},
   "outputs": [],
   "source": [
    "raw=df[\"violation_raw\"]"
   ]
  },
  {
   "cell_type": "code",
   "execution_count": 44,
   "id": "3d862cbe-7211-4caf-890a-91dba0fb9a17",
   "metadata": {},
   "outputs": [
    {
     "data": {
      "text/html": [
       "<style type=\"text/css\">\n",
       "#T_8a0c9_row0_col1 {\n",
       "  background-color: #b40426;\n",
       "  color: #f1f1f1;\n",
       "}\n",
       "#T_8a0c9_row1_col1 {\n",
       "  background-color: #aac7fd;\n",
       "  color: #000000;\n",
       "}\n",
       "#T_8a0c9_row2_col1, #T_8a0c9_row3_col1 {\n",
       "  background-color: #85a8fc;\n",
       "  color: #f1f1f1;\n",
       "}\n",
       "#T_8a0c9_row4_col1 {\n",
       "  background-color: #506bda;\n",
       "  color: #f1f1f1;\n",
       "}\n",
       "#T_8a0c9_row5_col1 {\n",
       "  background-color: #4c66d6;\n",
       "  color: #f1f1f1;\n",
       "}\n",
       "#T_8a0c9_row6_col1, #T_8a0c9_row7_col1 {\n",
       "  background-color: #4961d2;\n",
       "  color: #f1f1f1;\n",
       "}\n",
       "#T_8a0c9_row8_col1 {\n",
       "  background-color: #4257c9;\n",
       "  color: #f1f1f1;\n",
       "}\n",
       "#T_8a0c9_row9_col1, #T_8a0c9_row10_col1 {\n",
       "  background-color: #3c4ec2;\n",
       "  color: #f1f1f1;\n",
       "}\n",
       "#T_8a0c9_row11_col1, #T_8a0c9_row12_col1, #T_8a0c9_row13_col1, #T_8a0c9_row14_col1, #T_8a0c9_row15_col1 {\n",
       "  background-color: #3b4cc0;\n",
       "  color: #f1f1f1;\n",
       "}\n",
       "</style>\n",
       "<table id=\"T_8a0c9\">\n",
       "  <thead>\n",
       "    <tr>\n",
       "      <th class=\"blank level0\" >&nbsp;</th>\n",
       "      <th id=\"T_8a0c9_level0_col0\" class=\"col_heading level0 col0\" >violence</th>\n",
       "      <th id=\"T_8a0c9_level0_col1\" class=\"col_heading level0 col1\" >Total Count</th>\n",
       "    </tr>\n",
       "  </thead>\n",
       "  <tbody>\n",
       "    <tr>\n",
       "      <th id=\"T_8a0c9_level0_row0\" class=\"row_heading level0 row0\" >11</th>\n",
       "      <td id=\"T_8a0c9_row0_col0\" class=\"data row0 col0\" >Speeding</td>\n",
       "      <td id=\"T_8a0c9_row0_col1\" class=\"data row0 col1\" >48359</td>\n",
       "    </tr>\n",
       "    <tr>\n",
       "      <th id=\"T_8a0c9_level0_row1\" class=\"row_heading level0 row1\" >7</th>\n",
       "      <td id=\"T_8a0c9_row1_col0\" class=\"data row1 col0\" >Other Traffic Violation</td>\n",
       "      <td id=\"T_8a0c9_row1_col1\" class=\"data row1 col1\" >16164</td>\n",
       "    </tr>\n",
       "    <tr>\n",
       "      <th id=\"T_8a0c9_level0_row2\" class=\"row_heading level0 row2\" >5</th>\n",
       "      <td id=\"T_8a0c9_row2_col0\" class=\"data row2 col0\" >Inspection Violation</td>\n",
       "      <td id=\"T_8a0c9_row2_col1\" class=\"data row2 col1\" >11007</td>\n",
       "    </tr>\n",
       "    <tr>\n",
       "      <th id=\"T_8a0c9_level0_row3\" class=\"row_heading level0 row3\" >4</th>\n",
       "      <td id=\"T_8a0c9_row3_col0\" class=\"data row3 col0\" >Equipment</td>\n",
       "      <td id=\"T_8a0c9_row3_col1\" class=\"data row3 col1\" >11007</td>\n",
       "    </tr>\n",
       "    <tr>\n",
       "      <th id=\"T_8a0c9_level0_row4\" class=\"row_heading level0 row4\" >8</th>\n",
       "      <td id=\"T_8a0c9_row4_col0\" class=\"data row4 col0\" >Registration Violation</td>\n",
       "      <td id=\"T_8a0c9_row4_col1\" class=\"data row4 col1\" >3427</td>\n",
       "    </tr>\n",
       "    <tr>\n",
       "      <th id=\"T_8a0c9_level0_row5\" class=\"row_heading level0 row5\" >9</th>\n",
       "      <td id=\"T_8a0c9_row5_col0\" class=\"data row5 col0\" >Seatbelt Violation</td>\n",
       "      <td id=\"T_8a0c9_row5_col1\" class=\"data row5 col1\" >2952</td>\n",
       "    </tr>\n",
       "    <tr>\n",
       "      <th id=\"T_8a0c9_level0_row6\" class=\"row_heading level0 row6\" >10</th>\n",
       "      <td id=\"T_8a0c9_row6_col0\" class=\"data row6 col0\" >Special Detail</td>\n",
       "      <td id=\"T_8a0c9_row6_col1\" class=\"data row6 col1\" >2369</td>\n",
       "    </tr>\n",
       "    <tr>\n",
       "      <th id=\"T_8a0c9_level0_row7\" class=\"row_heading level0 row7\" >3</th>\n",
       "      <td id=\"T_8a0c9_row7_col0\" class=\"data row7 col0\" >Directed Patrol</td>\n",
       "      <td id=\"T_8a0c9_row7_col1\" class=\"data row7 col1\" >2369</td>\n",
       "    </tr>\n",
       "    <tr>\n",
       "      <th id=\"T_8a0c9_level0_row8\" class=\"row_heading level0 row8\" >1</th>\n",
       "      <td id=\"T_8a0c9_row8_col0\" class=\"data row8 col0\" >Call for Service</td>\n",
       "      <td id=\"T_8a0c9_row8_col1\" class=\"data row8 col1\" >1288</td>\n",
       "    </tr>\n",
       "    <tr>\n",
       "      <th id=\"T_8a0c9_level0_row9\" class=\"row_heading level0 row9\" >13</th>\n",
       "      <td id=\"T_8a0c9_row9_col0\" class=\"data row9 col0\" >Town Ordinance</td>\n",
       "      <td id=\"T_8a0c9_row9_col1\" class=\"data row9 col1\" >211</td>\n",
       "    </tr>\n",
       "    <tr>\n",
       "      <th id=\"T_8a0c9_level0_row10\" class=\"row_heading level0 row10\" >14</th>\n",
       "      <td id=\"T_8a0c9_row10_col0\" class=\"data row10 col0\" >Violation of City</td>\n",
       "      <td id=\"T_8a0c9_row10_col1\" class=\"data row10 col1\" >211</td>\n",
       "    </tr>\n",
       "    <tr>\n",
       "      <th id=\"T_8a0c9_level0_row11\" class=\"row_heading level0 row11\" >2</th>\n",
       "      <td id=\"T_8a0c9_row11_col0\" class=\"data row11 col0\" >Courtesy</td>\n",
       "      <td id=\"T_8a0c9_row11_col1\" class=\"data row11 col1\" >189</td>\n",
       "    </tr>\n",
       "    <tr>\n",
       "      <th id=\"T_8a0c9_level0_row12\" class=\"row_heading level0 row12\" >6</th>\n",
       "      <td id=\"T_8a0c9_row12_col0\" class=\"data row12 col0\" >Motorist Assist</td>\n",
       "      <td id=\"T_8a0c9_row12_col1\" class=\"data row12 col1\" >189</td>\n",
       "    </tr>\n",
       "    <tr>\n",
       "      <th id=\"T_8a0c9_level0_row13\" class=\"row_heading level0 row13\" >0</th>\n",
       "      <td id=\"T_8a0c9_row13_col0\" class=\"data row13 col0\" >APB</td>\n",
       "      <td id=\"T_8a0c9_row13_col1\" class=\"data row13 col1\" >78</td>\n",
       "    </tr>\n",
       "    <tr>\n",
       "      <th id=\"T_8a0c9_level0_row14\" class=\"row_heading level0 row14\" >12</th>\n",
       "      <td id=\"T_8a0c9_row14_col0\" class=\"data row14 col0\" >Suspicious Person</td>\n",
       "      <td id=\"T_8a0c9_row14_col1\" class=\"data row14 col1\" >54</td>\n",
       "    </tr>\n",
       "    <tr>\n",
       "      <th id=\"T_8a0c9_level0_row15\" class=\"row_heading level0 row15\" >15</th>\n",
       "      <td id=\"T_8a0c9_row15_col0\" class=\"data row15 col0\" >Warrant</td>\n",
       "      <td id=\"T_8a0c9_row15_col1\" class=\"data row15 col1\" >15</td>\n",
       "    </tr>\n",
       "  </tbody>\n",
       "</table>\n"
      ],
      "text/plain": [
       "<pandas.io.formats.style.Styler at 0xf7493839d0>"
      ]
     },
     "execution_count": 44,
     "metadata": {},
     "output_type": "execute_result"
    }
   ],
   "source": [
    "raw=df[\"violation_raw\"].str.split(\"/\",expand=True).stack()\n",
    "raw=raw.to_frame()\n",
    "raw.columns=[\"violence\"]\n",
    "violence=raw.groupby([\"violence\"]).size().reset_index(name='Total Count')\n",
    "violence=violence.sort_values(by=[\"Total Count\"],ascending=False)\n",
    "violence.style.background_gradient(cmap=\"coolwarm\")"
   ]
  },
  {
   "cell_type": "code",
   "execution_count": 45,
   "id": "c7842e17-5919-40c1-8592-6ee8cd4d99d4",
   "metadata": {},
   "outputs": [],
   "source": [
    "# df.head(3).reset_index(False)"
   ]
  },
  {
   "cell_type": "code",
   "execution_count": 46,
   "id": "87a327bd-2770-4f23-8299-f66b1bd02ed3",
   "metadata": {},
   "outputs": [
    {
     "data": {
      "text/plain": [
       "driver_gender  stop_duration\n",
       "F              0-15 Min         19684\n",
       "               16-30 Min         3383\n",
       "               30+ Min            396\n",
       "               1                    1\n",
       "M              0-15 Min         49650\n",
       "               16-30 Min        10175\n",
       "               30+ Min           2823\n",
       "               2                    1\n",
       "Name: count, dtype: int64"
      ]
     },
     "execution_count": 46,
     "metadata": {},
     "output_type": "execute_result"
    }
   ],
   "source": [
    "fr=df.groupby(\"driver_gender\")['stop_duration'].value_counts()\n",
    "fr"
   ]
  },
  {
   "cell_type": "code",
   "execution_count": 47,
   "id": "1a2e5733-a52d-44ef-8382-00ab1e7b4817",
   "metadata": {},
   "outputs": [
    {
     "data": {
      "text/plain": [
       "stop_date              object\n",
       "stop_time              object\n",
       "driver_gender          object\n",
       "driver_age_raw        float64\n",
       "driver_age            float64\n",
       "driver_race            object\n",
       "violation_raw          object\n",
       "violation              object\n",
       "search_conducted         bool\n",
       "stop_outcome           object\n",
       "is_arrested            object\n",
       "stop_duration          object\n",
       "drugs_related_stop       bool\n",
       "dtype: object"
      ]
     },
     "execution_count": 47,
     "metadata": {},
     "output_type": "execute_result"
    }
   ],
   "source": [
    "df.dtypes"
   ]
  },
  {
   "cell_type": "code",
   "execution_count": 48,
   "id": "941e94a8-59ca-4e37-a926-b9ccbcba24b0",
   "metadata": {},
   "outputs": [
    {
     "data": {
      "text/html": [
       "<div>\n",
       "<style scoped>\n",
       "    .dataframe tbody tr th:only-of-type {\n",
       "        vertical-align: middle;\n",
       "    }\n",
       "\n",
       "    .dataframe tbody tr th {\n",
       "        vertical-align: top;\n",
       "    }\n",
       "\n",
       "    .dataframe thead th {\n",
       "        text-align: right;\n",
       "    }\n",
       "</style>\n",
       "<table border=\"1\" class=\"dataframe\">\n",
       "  <thead>\n",
       "    <tr style=\"text-align: right;\">\n",
       "      <th></th>\n",
       "      <th>stop_date</th>\n",
       "      <th>stop_time</th>\n",
       "      <th>driver_gender</th>\n",
       "      <th>driver_age_raw</th>\n",
       "      <th>driver_age</th>\n",
       "      <th>driver_race</th>\n",
       "      <th>violation_raw</th>\n",
       "      <th>violation</th>\n",
       "      <th>search_conducted</th>\n",
       "      <th>stop_outcome</th>\n",
       "      <th>is_arrested</th>\n",
       "      <th>stop_duration</th>\n",
       "      <th>drugs_related_stop</th>\n",
       "    </tr>\n",
       "  </thead>\n",
       "  <tbody>\n",
       "    <tr>\n",
       "      <th>0</th>\n",
       "      <td>2005-01-02</td>\n",
       "      <td>01:55</td>\n",
       "      <td>M</td>\n",
       "      <td>1985.0</td>\n",
       "      <td>20.0</td>\n",
       "      <td>White</td>\n",
       "      <td>Speeding</td>\n",
       "      <td>Speeding</td>\n",
       "      <td>False</td>\n",
       "      <td>Citation</td>\n",
       "      <td>False</td>\n",
       "      <td>0-15 Min</td>\n",
       "      <td>False</td>\n",
       "    </tr>\n",
       "    <tr>\n",
       "      <th>1</th>\n",
       "      <td>2005-01-18</td>\n",
       "      <td>08:15</td>\n",
       "      <td>M</td>\n",
       "      <td>1965.0</td>\n",
       "      <td>40.0</td>\n",
       "      <td>White</td>\n",
       "      <td>Speeding</td>\n",
       "      <td>Speeding</td>\n",
       "      <td>False</td>\n",
       "      <td>Citation</td>\n",
       "      <td>False</td>\n",
       "      <td>0-15 Min</td>\n",
       "      <td>False</td>\n",
       "    </tr>\n",
       "  </tbody>\n",
       "</table>\n",
       "</div>"
      ],
      "text/plain": [
       "    stop_date stop_time driver_gender  driver_age_raw  driver_age driver_race  \\\n",
       "0  2005-01-02     01:55             M          1985.0        20.0       White   \n",
       "1  2005-01-18     08:15             M          1965.0        40.0       White   \n",
       "\n",
       "  violation_raw violation  search_conducted stop_outcome is_arrested  \\\n",
       "0      Speeding  Speeding             False     Citation       False   \n",
       "1      Speeding  Speeding             False     Citation       False   \n",
       "\n",
       "  stop_duration  drugs_related_stop  \n",
       "0      0-15 Min               False  \n",
       "1      0-15 Min               False  "
      ]
     },
     "execution_count": 48,
     "metadata": {},
     "output_type": "execute_result"
    }
   ],
   "source": [
    "df.head(2)"
   ]
  },
  {
   "cell_type": "code",
   "execution_count": 49,
   "id": "56c84191-501d-4f3c-85d7-72c8ac6ece67",
   "metadata": {},
   "outputs": [
    {
     "data": {
      "text/plain": [
       "stop_date             datetime64[ns]\n",
       "stop_time                     object\n",
       "driver_gender                 object\n",
       "driver_age_raw               float64\n",
       "driver_age                   float64\n",
       "driver_race                   object\n",
       "violation_raw                 object\n",
       "violation                     object\n",
       "search_conducted                bool\n",
       "stop_outcome                  object\n",
       "is_arrested                   object\n",
       "stop_duration                 object\n",
       "drugs_related_stop              bool\n",
       "dtype: object"
      ]
     },
     "execution_count": 49,
     "metadata": {},
     "output_type": "execute_result"
    }
   ],
   "source": [
    "df[\"stop_date\"]=pd.to_datetime(df[\"stop_date\"])\n",
    "df.dtypes"
   ]
  },
  {
   "cell_type": "code",
   "execution_count": 50,
   "id": "917e507d-9c5d-4678-ad80-1937c853d918",
   "metadata": {},
   "outputs": [
    {
     "data": {
      "text/html": [
       "<div>\n",
       "<style scoped>\n",
       "    .dataframe tbody tr th:only-of-type {\n",
       "        vertical-align: middle;\n",
       "    }\n",
       "\n",
       "    .dataframe tbody tr th {\n",
       "        vertical-align: top;\n",
       "    }\n",
       "\n",
       "    .dataframe thead th {\n",
       "        text-align: right;\n",
       "    }\n",
       "</style>\n",
       "<table border=\"1\" class=\"dataframe\">\n",
       "  <thead>\n",
       "    <tr style=\"text-align: right;\">\n",
       "      <th></th>\n",
       "      <th>stop_date</th>\n",
       "      <th>stop_time</th>\n",
       "      <th>driver_gender</th>\n",
       "      <th>driver_age_raw</th>\n",
       "      <th>driver_age</th>\n",
       "      <th>driver_race</th>\n",
       "      <th>violation_raw</th>\n",
       "      <th>violation</th>\n",
       "      <th>search_conducted</th>\n",
       "      <th>stop_outcome</th>\n",
       "      <th>is_arrested</th>\n",
       "      <th>stop_duration</th>\n",
       "      <th>drugs_related_stop</th>\n",
       "    </tr>\n",
       "  </thead>\n",
       "  <tbody>\n",
       "    <tr>\n",
       "      <th>0</th>\n",
       "      <td>2005-01-02</td>\n",
       "      <td>01:55</td>\n",
       "      <td>M</td>\n",
       "      <td>1985.0</td>\n",
       "      <td>20.0</td>\n",
       "      <td>White</td>\n",
       "      <td>Speeding</td>\n",
       "      <td>Speeding</td>\n",
       "      <td>False</td>\n",
       "      <td>Citation</td>\n",
       "      <td>False</td>\n",
       "      <td>0-15 Min</td>\n",
       "      <td>False</td>\n",
       "    </tr>\n",
       "    <tr>\n",
       "      <th>1</th>\n",
       "      <td>2005-01-18</td>\n",
       "      <td>08:15</td>\n",
       "      <td>M</td>\n",
       "      <td>1965.0</td>\n",
       "      <td>40.0</td>\n",
       "      <td>White</td>\n",
       "      <td>Speeding</td>\n",
       "      <td>Speeding</td>\n",
       "      <td>False</td>\n",
       "      <td>Citation</td>\n",
       "      <td>False</td>\n",
       "      <td>0-15 Min</td>\n",
       "      <td>False</td>\n",
       "    </tr>\n",
       "  </tbody>\n",
       "</table>\n",
       "</div>"
      ],
      "text/plain": [
       "   stop_date stop_time driver_gender  driver_age_raw  driver_age driver_race  \\\n",
       "0 2005-01-02     01:55             M          1985.0        20.0       White   \n",
       "1 2005-01-18     08:15             M          1965.0        40.0       White   \n",
       "\n",
       "  violation_raw violation  search_conducted stop_outcome is_arrested  \\\n",
       "0      Speeding  Speeding             False     Citation       False   \n",
       "1      Speeding  Speeding             False     Citation       False   \n",
       "\n",
       "  stop_duration  drugs_related_stop  \n",
       "0      0-15 Min               False  \n",
       "1      0-15 Min               False  "
      ]
     },
     "execution_count": 50,
     "metadata": {},
     "output_type": "execute_result"
    }
   ],
   "source": [
    "df.head(2)"
   ]
  },
  {
   "cell_type": "code",
   "execution_count": 51,
   "id": "24fbcb9f-beaa-4942-b343-a17437ad7be8",
   "metadata": {},
   "outputs": [
    {
     "data": {
      "text/html": [
       "<div>\n",
       "<style scoped>\n",
       "    .dataframe tbody tr th:only-of-type {\n",
       "        vertical-align: middle;\n",
       "    }\n",
       "\n",
       "    .dataframe tbody tr th {\n",
       "        vertical-align: top;\n",
       "    }\n",
       "\n",
       "    .dataframe thead th {\n",
       "        text-align: right;\n",
       "    }\n",
       "</style>\n",
       "<table border=\"1\" class=\"dataframe\">\n",
       "  <thead>\n",
       "    <tr style=\"text-align: right;\">\n",
       "      <th></th>\n",
       "      <th>stop_date</th>\n",
       "      <th>stop_time</th>\n",
       "      <th>driver_gender</th>\n",
       "      <th>driver_age_raw</th>\n",
       "      <th>driver_age</th>\n",
       "      <th>driver_race</th>\n",
       "      <th>violation_raw</th>\n",
       "      <th>violation</th>\n",
       "      <th>search_conducted</th>\n",
       "      <th>stop_outcome</th>\n",
       "      <th>is_arrested</th>\n",
       "      <th>stop_duration</th>\n",
       "      <th>drugs_related_stop</th>\n",
       "      <th>dYear</th>\n",
       "    </tr>\n",
       "  </thead>\n",
       "  <tbody>\n",
       "    <tr>\n",
       "      <th>0</th>\n",
       "      <td>2005-01-02</td>\n",
       "      <td>01:55</td>\n",
       "      <td>M</td>\n",
       "      <td>1985.0</td>\n",
       "      <td>20.0</td>\n",
       "      <td>White</td>\n",
       "      <td>Speeding</td>\n",
       "      <td>Speeding</td>\n",
       "      <td>False</td>\n",
       "      <td>Citation</td>\n",
       "      <td>False</td>\n",
       "      <td>0-15 Min</td>\n",
       "      <td>False</td>\n",
       "      <td>2005</td>\n",
       "    </tr>\n",
       "    <tr>\n",
       "      <th>1</th>\n",
       "      <td>2005-01-18</td>\n",
       "      <td>08:15</td>\n",
       "      <td>M</td>\n",
       "      <td>1965.0</td>\n",
       "      <td>40.0</td>\n",
       "      <td>White</td>\n",
       "      <td>Speeding</td>\n",
       "      <td>Speeding</td>\n",
       "      <td>False</td>\n",
       "      <td>Citation</td>\n",
       "      <td>False</td>\n",
       "      <td>0-15 Min</td>\n",
       "      <td>False</td>\n",
       "      <td>2005</td>\n",
       "    </tr>\n",
       "  </tbody>\n",
       "</table>\n",
       "</div>"
      ],
      "text/plain": [
       "   stop_date stop_time driver_gender  driver_age_raw  driver_age driver_race  \\\n",
       "0 2005-01-02     01:55             M          1985.0        20.0       White   \n",
       "1 2005-01-18     08:15             M          1965.0        40.0       White   \n",
       "\n",
       "  violation_raw violation  search_conducted stop_outcome is_arrested  \\\n",
       "0      Speeding  Speeding             False     Citation       False   \n",
       "1      Speeding  Speeding             False     Citation       False   \n",
       "\n",
       "  stop_duration  drugs_related_stop  dYear  \n",
       "0      0-15 Min               False   2005  \n",
       "1      0-15 Min               False   2005  "
      ]
     },
     "execution_count": 51,
     "metadata": {},
     "output_type": "execute_result"
    }
   ],
   "source": [
    "df[\"dYear\"]=df.stop_date.dt.year\n",
    "df.head(2)"
   ]
  },
  {
   "cell_type": "code",
   "execution_count": 52,
   "id": "5f51c69e-ecda-41b4-a7e9-99c61572c695",
   "metadata": {},
   "outputs": [
    {
     "data": {
      "text/html": [
       "<div>\n",
       "<style scoped>\n",
       "    .dataframe tbody tr th:only-of-type {\n",
       "        vertical-align: middle;\n",
       "    }\n",
       "\n",
       "    .dataframe tbody tr th {\n",
       "        vertical-align: top;\n",
       "    }\n",
       "\n",
       "    .dataframe thead th {\n",
       "        text-align: right;\n",
       "    }\n",
       "</style>\n",
       "<table border=\"1\" class=\"dataframe\">\n",
       "  <thead>\n",
       "    <tr style=\"text-align: right;\">\n",
       "      <th></th>\n",
       "      <th>stop_date</th>\n",
       "      <th>stop_time</th>\n",
       "      <th>driver_gender</th>\n",
       "      <th>driver_age_raw</th>\n",
       "      <th>driver_age</th>\n",
       "      <th>driver_race</th>\n",
       "      <th>violation_raw</th>\n",
       "      <th>violation</th>\n",
       "      <th>search_conducted</th>\n",
       "      <th>stop_outcome</th>\n",
       "      <th>is_arrested</th>\n",
       "      <th>stop_duration</th>\n",
       "      <th>drugs_related_stop</th>\n",
       "      <th>dYear</th>\n",
       "      <th>dMonth</th>\n",
       "    </tr>\n",
       "  </thead>\n",
       "  <tbody>\n",
       "    <tr>\n",
       "      <th>0</th>\n",
       "      <td>2005-01-02</td>\n",
       "      <td>01:55</td>\n",
       "      <td>M</td>\n",
       "      <td>1985.0</td>\n",
       "      <td>20.0</td>\n",
       "      <td>White</td>\n",
       "      <td>Speeding</td>\n",
       "      <td>Speeding</td>\n",
       "      <td>False</td>\n",
       "      <td>Citation</td>\n",
       "      <td>False</td>\n",
       "      <td>0-15 Min</td>\n",
       "      <td>False</td>\n",
       "      <td>2005</td>\n",
       "      <td>1</td>\n",
       "    </tr>\n",
       "    <tr>\n",
       "      <th>1</th>\n",
       "      <td>2005-01-18</td>\n",
       "      <td>08:15</td>\n",
       "      <td>M</td>\n",
       "      <td>1965.0</td>\n",
       "      <td>40.0</td>\n",
       "      <td>White</td>\n",
       "      <td>Speeding</td>\n",
       "      <td>Speeding</td>\n",
       "      <td>False</td>\n",
       "      <td>Citation</td>\n",
       "      <td>False</td>\n",
       "      <td>0-15 Min</td>\n",
       "      <td>False</td>\n",
       "      <td>2005</td>\n",
       "      <td>1</td>\n",
       "    </tr>\n",
       "  </tbody>\n",
       "</table>\n",
       "</div>"
      ],
      "text/plain": [
       "   stop_date stop_time driver_gender  driver_age_raw  driver_age driver_race  \\\n",
       "0 2005-01-02     01:55             M          1985.0        20.0       White   \n",
       "1 2005-01-18     08:15             M          1965.0        40.0       White   \n",
       "\n",
       "  violation_raw violation  search_conducted stop_outcome is_arrested  \\\n",
       "0      Speeding  Speeding             False     Citation       False   \n",
       "1      Speeding  Speeding             False     Citation       False   \n",
       "\n",
       "  stop_duration  drugs_related_stop  dYear  dMonth  \n",
       "0      0-15 Min               False   2005       1  \n",
       "1      0-15 Min               False   2005       1  "
      ]
     },
     "execution_count": 52,
     "metadata": {},
     "output_type": "execute_result"
    }
   ],
   "source": [
    "df[\"dMonth\"]=df.stop_date.dt.month\n",
    "df.head(2)"
   ]
  },
  {
   "cell_type": "code",
   "execution_count": 53,
   "id": "6a8792c7-8eb6-4412-acfc-26688b95fa4b",
   "metadata": {},
   "outputs": [],
   "source": [
    "# df[\"MonthName\"]=df.stop_date.dt.month_name()"
   ]
  },
  {
   "cell_type": "code",
   "execution_count": 54,
   "id": "21159e19-73d8-4f10-9fa7-126c1368e22f",
   "metadata": {},
   "outputs": [
    {
     "data": {
      "text/plain": [
       "0         1\n",
       "1         1\n",
       "2         1\n",
       "3         2\n",
       "4         3\n",
       "         ..\n",
       "91736    12\n",
       "91737    12\n",
       "91738    12\n",
       "91739    12\n",
       "91740    12\n",
       "Name: dMonth, Length: 86113, dtype: int32"
      ]
     },
     "execution_count": 54,
     "metadata": {},
     "output_type": "execute_result"
    }
   ],
   "source": [
    "# df[\"dMonth\"]"
   ]
  },
  {
   "cell_type": "code",
   "execution_count": 55,
   "id": "acdbf730-b02a-44e3-af96-5c56b9aee610",
   "metadata": {},
   "outputs": [
    {
     "data": {
      "text/plain": [
       "Index(['stop_date', 'stop_time', 'driver_gender', 'driver_age_raw',\n",
       "       'driver_age', 'driver_race', 'violation_raw', 'violation',\n",
       "       'search_conducted', 'stop_outcome', 'is_arrested', 'stop_duration',\n",
       "       'drugs_related_stop', 'dYear', 'dMonth', 'MonthName'],\n",
       "      dtype='object')"
      ]
     },
     "execution_count": 55,
     "metadata": {},
     "output_type": "execute_result"
    }
   ],
   "source": [
    "df.columns"
   ]
  },
  {
   "cell_type": "code",
   "execution_count": 56,
   "id": "4376e1c8-a394-4ca0-a87f-34d951e69944",
   "metadata": {},
   "outputs": [
    {
     "data": {
      "text/html": [
       "<div>\n",
       "<style scoped>\n",
       "    .dataframe tbody tr th:only-of-type {\n",
       "        vertical-align: middle;\n",
       "    }\n",
       "\n",
       "    .dataframe tbody tr th {\n",
       "        vertical-align: top;\n",
       "    }\n",
       "\n",
       "    .dataframe thead th {\n",
       "        text-align: right;\n",
       "    }\n",
       "</style>\n",
       "<table border=\"1\" class=\"dataframe\">\n",
       "  <thead>\n",
       "    <tr style=\"text-align: right;\">\n",
       "      <th>dMonth</th>\n",
       "      <th>1</th>\n",
       "      <th>2</th>\n",
       "      <th>3</th>\n",
       "      <th>4</th>\n",
       "      <th>5</th>\n",
       "      <th>6</th>\n",
       "      <th>7</th>\n",
       "      <th>8</th>\n",
       "      <th>9</th>\n",
       "      <th>10</th>\n",
       "      <th>11</th>\n",
       "      <th>12</th>\n",
       "    </tr>\n",
       "    <tr>\n",
       "      <th>violation</th>\n",
       "      <th></th>\n",
       "      <th></th>\n",
       "      <th></th>\n",
       "      <th></th>\n",
       "      <th></th>\n",
       "      <th></th>\n",
       "      <th></th>\n",
       "      <th></th>\n",
       "      <th></th>\n",
       "      <th></th>\n",
       "      <th></th>\n",
       "      <th></th>\n",
       "    </tr>\n",
       "  </thead>\n",
       "  <tbody>\n",
       "    <tr>\n",
       "      <th>Equipment</th>\n",
       "      <td>1061</td>\n",
       "      <td>873</td>\n",
       "      <td>1013</td>\n",
       "      <td>940</td>\n",
       "      <td>980</td>\n",
       "      <td>942</td>\n",
       "      <td>995</td>\n",
       "      <td>916</td>\n",
       "      <td>822</td>\n",
       "      <td>784</td>\n",
       "      <td>841</td>\n",
       "      <td>840</td>\n",
       "    </tr>\n",
       "    <tr>\n",
       "      <th>Moving violation</th>\n",
       "      <td>1352</td>\n",
       "      <td>1297</td>\n",
       "      <td>1347</td>\n",
       "      <td>1348</td>\n",
       "      <td>1349</td>\n",
       "      <td>1299</td>\n",
       "      <td>1469</td>\n",
       "      <td>1447</td>\n",
       "      <td>1369</td>\n",
       "      <td>1351</td>\n",
       "      <td>1270</td>\n",
       "      <td>1266</td>\n",
       "    </tr>\n",
       "    <tr>\n",
       "      <th>Other</th>\n",
       "      <td>342</td>\n",
       "      <td>365</td>\n",
       "      <td>350</td>\n",
       "      <td>320</td>\n",
       "      <td>362</td>\n",
       "      <td>367</td>\n",
       "      <td>306</td>\n",
       "      <td>365</td>\n",
       "      <td>321</td>\n",
       "      <td>368</td>\n",
       "      <td>361</td>\n",
       "      <td>377</td>\n",
       "    </tr>\n",
       "    <tr>\n",
       "      <th>Registration/plates</th>\n",
       "      <td>390</td>\n",
       "      <td>334</td>\n",
       "      <td>292</td>\n",
       "      <td>262</td>\n",
       "      <td>247</td>\n",
       "      <td>275</td>\n",
       "      <td>281</td>\n",
       "      <td>285</td>\n",
       "      <td>230</td>\n",
       "      <td>292</td>\n",
       "      <td>256</td>\n",
       "      <td>283</td>\n",
       "    </tr>\n",
       "    <tr>\n",
       "      <th>Seat belt</th>\n",
       "      <td>182</td>\n",
       "      <td>170</td>\n",
       "      <td>253</td>\n",
       "      <td>217</td>\n",
       "      <td>330</td>\n",
       "      <td>305</td>\n",
       "      <td>297</td>\n",
       "      <td>330</td>\n",
       "      <td>318</td>\n",
       "      <td>205</td>\n",
       "      <td>189</td>\n",
       "      <td>156</td>\n",
       "    </tr>\n",
       "    <tr>\n",
       "      <th>Speeding</th>\n",
       "      <td>4603</td>\n",
       "      <td>3562</td>\n",
       "      <td>4033</td>\n",
       "      <td>4007</td>\n",
       "      <td>4198</td>\n",
       "      <td>3957</td>\n",
       "      <td>3725</td>\n",
       "      <td>3804</td>\n",
       "      <td>3921</td>\n",
       "      <td>4265</td>\n",
       "      <td>4483</td>\n",
       "      <td>3801</td>\n",
       "    </tr>\n",
       "  </tbody>\n",
       "</table>\n",
       "</div>"
      ],
      "text/plain": [
       "dMonth                 1     2     3     4     5     6     7     8     9   \\\n",
       "violation                                                                   \n",
       "Equipment            1061   873  1013   940   980   942   995   916   822   \n",
       "Moving violation     1352  1297  1347  1348  1349  1299  1469  1447  1369   \n",
       "Other                 342   365   350   320   362   367   306   365   321   \n",
       "Registration/plates   390   334   292   262   247   275   281   285   230   \n",
       "Seat belt             182   170   253   217   330   305   297   330   318   \n",
       "Speeding             4603  3562  4033  4007  4198  3957  3725  3804  3921   \n",
       "\n",
       "dMonth                 10    11    12  \n",
       "violation                              \n",
       "Equipment             784   841   840  \n",
       "Moving violation     1351  1270  1266  \n",
       "Other                 368   361   377  \n",
       "Registration/plates   292   256   283  \n",
       "Seat belt             205   189   156  \n",
       "Speeding             4265  4483  3801  "
      ]
     },
     "execution_count": 56,
     "metadata": {},
     "output_type": "execute_result"
    }
   ],
   "source": [
    "year_crime_detail=df.groupby([\"violation\",\"dMonth\"]).stop_date.count().unstack()\n",
    "year_crime_detail"
   ]
  },
  {
   "cell_type": "code",
   "execution_count": 57,
   "id": "d2124a2d-141e-40bd-9835-5fd378adff57",
   "metadata": {},
   "outputs": [
    {
     "data": {
      "text/html": [
       "<div>\n",
       "<style scoped>\n",
       "    .dataframe tbody tr th:only-of-type {\n",
       "        vertical-align: middle;\n",
       "    }\n",
       "\n",
       "    .dataframe tbody tr th {\n",
       "        vertical-align: top;\n",
       "    }\n",
       "\n",
       "    .dataframe thead th {\n",
       "        text-align: right;\n",
       "    }\n",
       "</style>\n",
       "<table border=\"1\" class=\"dataframe\">\n",
       "  <thead>\n",
       "    <tr style=\"text-align: right;\">\n",
       "      <th></th>\n",
       "      <th>stop_date</th>\n",
       "      <th>stop_time</th>\n",
       "      <th>driver_gender</th>\n",
       "      <th>driver_age_raw</th>\n",
       "      <th>driver_age</th>\n",
       "      <th>driver_race</th>\n",
       "      <th>violation_raw</th>\n",
       "      <th>violation</th>\n",
       "      <th>search_conducted</th>\n",
       "      <th>stop_outcome</th>\n",
       "      <th>is_arrested</th>\n",
       "      <th>stop_duration</th>\n",
       "      <th>drugs_related_stop</th>\n",
       "      <th>dYear</th>\n",
       "      <th>dMonth</th>\n",
       "      <th>MonthName</th>\n",
       "    </tr>\n",
       "  </thead>\n",
       "  <tbody>\n",
       "    <tr>\n",
       "      <th>0</th>\n",
       "      <td>2005-01-02</td>\n",
       "      <td>01:55</td>\n",
       "      <td>M</td>\n",
       "      <td>1985.0</td>\n",
       "      <td>20.0</td>\n",
       "      <td>White</td>\n",
       "      <td>Speeding</td>\n",
       "      <td>Speeding</td>\n",
       "      <td>False</td>\n",
       "      <td>Citation</td>\n",
       "      <td>False</td>\n",
       "      <td>0-15 Min</td>\n",
       "      <td>False</td>\n",
       "      <td>2005</td>\n",
       "      <td>1</td>\n",
       "      <td>January</td>\n",
       "    </tr>\n",
       "    <tr>\n",
       "      <th>1</th>\n",
       "      <td>2005-01-18</td>\n",
       "      <td>08:15</td>\n",
       "      <td>M</td>\n",
       "      <td>1965.0</td>\n",
       "      <td>40.0</td>\n",
       "      <td>White</td>\n",
       "      <td>Speeding</td>\n",
       "      <td>Speeding</td>\n",
       "      <td>False</td>\n",
       "      <td>Citation</td>\n",
       "      <td>False</td>\n",
       "      <td>0-15 Min</td>\n",
       "      <td>False</td>\n",
       "      <td>2005</td>\n",
       "      <td>1</td>\n",
       "      <td>January</td>\n",
       "    </tr>\n",
       "  </tbody>\n",
       "</table>\n",
       "</div>"
      ],
      "text/plain": [
       "   stop_date stop_time driver_gender  driver_age_raw  driver_age driver_race  \\\n",
       "0 2005-01-02     01:55             M          1985.0        20.0       White   \n",
       "1 2005-01-18     08:15             M          1965.0        40.0       White   \n",
       "\n",
       "  violation_raw violation  search_conducted stop_outcome is_arrested  \\\n",
       "0      Speeding  Speeding             False     Citation       False   \n",
       "1      Speeding  Speeding             False     Citation       False   \n",
       "\n",
       "  stop_duration  drugs_related_stop  dYear  dMonth MonthName  \n",
       "0      0-15 Min               False   2005       1   January  \n",
       "1      0-15 Min               False   2005       1   January  "
      ]
     },
     "execution_count": 57,
     "metadata": {},
     "output_type": "execute_result"
    }
   ],
   "source": [
    "df.head(2)"
   ]
  },
  {
   "cell_type": "code",
   "execution_count": 58,
   "id": "6a172cb9-6742-4e47-98aa-d9e2bbf87560",
   "metadata": {},
   "outputs": [
    {
     "data": {
      "text/plain": [
       "MonthName\n",
       "April        7094\n",
       "August       7147\n",
       "December     6723\n",
       "February     6601\n",
       "January      7930\n",
       "July         7073\n",
       "June         7145\n",
       "March        7288\n",
       "May          7466\n",
       "November     7400\n",
       "October      7265\n",
       "September    6981\n",
       "Name: violation, dtype: int64"
      ]
     },
     "execution_count": 58,
     "metadata": {},
     "output_type": "execute_result"
    }
   ],
   "source": [
    "month_cr=df.groupby(\"MonthName\")[\"violation\"].count()\n",
    "month_cr"
   ]
  },
  {
   "cell_type": "code",
   "execution_count": 59,
   "id": "01ccddbb-d9a3-4fe1-b8ac-3aa5109de357",
   "metadata": {},
   "outputs": [
    {
     "data": {
      "text/plain": [
       "Index(['stop_date', 'stop_time', 'driver_gender', 'driver_age_raw',\n",
       "       'driver_age', 'driver_race', 'violation_raw', 'violation',\n",
       "       'search_conducted', 'stop_outcome', 'is_arrested', 'stop_duration',\n",
       "       'drugs_related_stop', 'dYear', 'dMonth', 'MonthName'],\n",
       "      dtype='object')"
      ]
     },
     "execution_count": 59,
     "metadata": {},
     "output_type": "execute_result"
    }
   ],
   "source": [
    "df.columns"
   ]
  },
  {
   "cell_type": "code",
   "execution_count": 60,
   "id": "6e0ed753-5dd4-4d61-ae57-a475111575ae",
   "metadata": {},
   "outputs": [
    {
     "data": {
      "text/plain": [
       "dYear\n",
       "2005     2489\n",
       "2006    10101\n",
       "2007     8888\n",
       "2008     8077\n",
       "2009     7193\n",
       "2010     6952\n",
       "2011     7566\n",
       "2012    10386\n",
       "2013     7411\n",
       "2014     8835\n",
       "2015     8215\n",
       "Name: violation, dtype: int64"
      ]
     },
     "execution_count": 60,
     "metadata": {},
     "output_type": "execute_result"
    }
   ],
   "source": [
    "yearly_crime=df.groupby('dYear')['violation'].count()\n",
    "yearly_crime"
   ]
  },
  {
   "cell_type": "code",
   "execution_count": 168,
   "id": "c8035d8f-a2bb-4ab0-88f6-b924e5be1eeb",
   "metadata": {},
   "outputs": [],
   "source": [
    "mt.style.use(\"ggplot\")"
   ]
  },
  {
   "cell_type": "code",
   "execution_count": 169,
   "id": "b183817a-c0ad-491c-968d-1d391a8f8cb1",
   "metadata": {},
   "outputs": [
    {
     "data": {
      "image/png": "[encoded data removed]",
      "text/plain": [
       "<Figure size 1200x500 with 1 Axes>"
      ]
     },
     "metadata": {},
     "output_type": "display_data"
    }
   ],
   "source": [
    "yearly_crime.plot(figsize=(12,5),kind='line',\n",
    "                  marker=\".\",markersize=20,\n",
    "                  mfc='red',mec='red',linewidth=3,color=\"black\",linestyle=\"--\")\n",
    "\n",
    "\n",
    "mt.title(\"Total No of Crimes in a Year\",fontweight='bold',size=15)\n",
    "mt.xlabel(\"Years\",fontweight='bold',size=12)\n",
    "mt.ylabel(\"Total\",fontweight='bold',size=12)\n",
    "mt.xticks(fontweight='bold',size=20,color=\"black\")\n",
    "mt.yticks(fontweight='bold',size=12,color=\"black\")\n",
    "mt.savefig(r'C:\\Users\\hp\\OneDrive\\Desktop\\Total No of Crimes in a Year.jpeg')"
   ]
  },
  {
   "cell_type": "code",
   "execution_count": 63,
   "id": "6a1060b8-fcd7-44ea-b7d1-696117f37648",
   "metadata": {},
   "outputs": [],
   "source": [
    "# df[\"MonthName\"].unique()"
   ]
  },
  {
   "cell_type": "code",
   "execution_count": 64,
   "id": "5c1514ce-8d00-4a91-ac3b-da62ee5a905e",
   "metadata": {},
   "outputs": [],
   "source": [
    "# df.columns"
   ]
  },
  {
   "cell_type": "code",
   "execution_count": 65,
   "id": "b33fc3b9-f146-4add-bae1-c9fc94757432",
   "metadata": {},
   "outputs": [],
   "source": [
    "# df[\"stop_date\"].sort_values(ascending=True)"
   ]
  },
  {
   "cell_type": "code",
   "execution_count": 66,
   "id": "c5b9b6c6-0925-4f26-ba12-1e997b07d1c1",
   "metadata": {},
   "outputs": [],
   "source": [
    "# dates_in_order=pd.date_range(start='2005-01-01',end='2015-12-31',freq='MS')"
   ]
  },
  {
   "cell_type": "code",
   "execution_count": 67,
   "id": "b40d3e22-9233-4bf4-b53a-5720ed4d9503",
   "metadata": {},
   "outputs": [],
   "source": [
    "# df[\"MonthName\"]=dates_in_order.map(lambda x:x.month_name()).to_list()"
   ]
  },
  {
   "cell_type": "code",
   "execution_count": 68,
   "id": "e32724c1-65b9-427e-b87d-dbb3e3f5635c",
   "metadata": {},
   "outputs": [],
   "source": [
    "# df.columns"
   ]
  },
  {
   "cell_type": "code",
   "execution_count": 69,
   "id": "9f01830d-3c1d-44de-8120-14ce418a1290",
   "metadata": {},
   "outputs": [],
   "source": [
    "# sort_order=[\"jan\",'Feb','Mar','Apr','May','Jun','Jul','Aug','Sept','Oct',\"Nov\",\"Dec\"]"
   ]
  },
  {
   "cell_type": "code",
   "execution_count": 70,
   "id": "e88549cf-125b-40de-94b1-5e6ddd7c69f4",
   "metadata": {},
   "outputs": [],
   "source": [
    "# df[\"MonthName\"]=pd.CategoricalIndex(df[\"MonthName\"],categories=[\"Jan\",'Feb',\n",
    "#                                                                 'Mar','Apr',\n",
    "#                                                                 'May','Jun',\n",
    "#                                                                 'Jul','Aug',\n",
    "#                                                                 'Sept','Oct',\n",
    "#                                                                 \"Nov\",\"Dec\"],ordered=True)"
   ]
  },
  {
   "cell_type": "code",
   "execution_count": 71,
   "id": "5546ab19-b3a4-456c-844b-ffd179cd6823",
   "metadata": {},
   "outputs": [],
   "source": [
    "# df[\"MonthName\"]\n",
    "\n",
    "\n"
   ]
  },
  {
   "cell_type": "code",
   "execution_count": null,
   "id": "0e7d532d-c31e-4169-b623-a2ff6915b94b",
   "metadata": {},
   "outputs": [],
   "source": []
  },
  {
   "cell_type": "code",
   "execution_count": 72,
   "id": "0ae1404a-6b33-4212-bd5c-de0f049413c6",
   "metadata": {},
   "outputs": [],
   "source": [
    "# moc=df.groupby(\"MonthName\")[\"violation\"].count()\n",
    "# moc.sort_values(ascending=False)"
   ]
  },
  {
   "cell_type": "code",
   "execution_count": 73,
   "id": "2da9f89c-c5fb-4dd3-90bc-fc92115c8b91",
   "metadata": {},
   "outputs": [],
   "source": [
    "# moc1=df.groupby([\"dMonth\",\"violation\"]).stop_date.count().unstack()\n",
    "# moc1"
   ]
  },
  {
   "cell_type": "code",
   "execution_count": 74,
   "id": "af472440-b9f4-4c63-a32e-bd1d365c1c1c",
   "metadata": {},
   "outputs": [],
   "source": [
    "# mt.style.use(\"dark_background\")\n",
    "# violence=raw.groupby(\"violence\").size().reset_index(name='Total Count')\n",
    "# vio=violence.sort_values(by=\"Total Count\",ascending=False)\n",
    "# vio.plot(kind=\"barh\",x='violence',\n",
    "#         color=\"mistyrose\")\n",
    "\n",
    "# mt.title(\"\",fontweight='bold',size=20)\n",
    "# mt.ylabel(\" \")"
   ]
  },
  {
   "cell_type": "code",
   "execution_count": 75,
   "id": "fb9e227d-787e-4dce-aa4e-17a7dbf356cf",
   "metadata": {},
   "outputs": [],
   "source": [
    "# df[\"violation_raw\"]=df[\"violation_raw\"].str.split(\"/\",expand=True).stack()\n",
    "# df[\"violation_raw\"]=pd.to_frame()\n",
    "# df[\"violation\"].columns=df[\"violation_raw\"]\n",
    "# df[\"violation\"]=df[\"violation\"].groupby([\"violation\"]).size().reset_index(name='Total Count')\n",
    "# df[\"violation\"]=df[\"violation\"].sort_values(by=[\"Total Count\"],ascending=False)\n",
    "# df[\"violation\"]"
   ]
  },
  {
   "cell_type": "code",
   "execution_count": 76,
   "id": "2f7b6d5a-1189-41d4-99b1-0318f4117997",
   "metadata": {},
   "outputs": [],
   "source": [
    "# charat=fd[\"Characters\"].str.split(\",\",expand=True).stack()\n",
    "# charat=charat.to_frame()\n",
    "# charat.columns=[\"Actors\"]\n",
    "# actors=charat.groupby([\"Actors\"]).size().reset_index(name=\"Total Count\")\n",
    "# actors=actors.sort_values(by=[\"Total Count\"],ascending=False)\n",
    "# actors\n"
   ]
  },
  {
   "cell_type": "code",
   "execution_count": null,
   "id": "81ad65d7-3e66-4ee0-9f8e-ee26243bab1d",
   "metadata": {},
   "outputs": [],
   "source": []
  },
  {
   "cell_type": "code",
   "execution_count": null,
   "id": "51a7a03c-ff46-4010-b77d-9170e45e5ab7",
   "metadata": {},
   "outputs": [],
   "source": []
  },
  {
   "cell_type": "code",
   "execution_count": null,
   "id": "a2534b1d-eed2-4f2b-9733-e19de81ef039",
   "metadata": {},
   "outputs": [],
   "source": []
  },
  {
   "cell_type": "code",
   "execution_count": null,
   "id": "acf96c89-72f0-4673-a7a7-214e415051c1",
   "metadata": {},
   "outputs": [],
   "source": []
  },
  {
   "cell_type": "code",
   "execution_count": null,
   "id": "5289232e-1301-462c-88fc-d944f428c159",
   "metadata": {},
   "outputs": [],
   "source": []
  },
  {
   "cell_type": "code",
   "execution_count": null,
   "id": "0863e6e1-0b0b-4502-8bb8-0b9724a556d7",
   "metadata": {},
   "outputs": [],
   "source": []
  },
  {
   "cell_type": "code",
   "execution_count": null,
   "id": "e57b145e-8f01-42f1-9e27-d0977b838c89",
   "metadata": {},
   "outputs": [],
   "source": []
  }
 ],
 "metadata": {
  "kernelspec": {
   "display_name": "Python 3 (ipykernel)",
   "language": "python",
   "name": "python3"
  },
  "language_info": {
   "codemirror_mode": {
    "name": "ipython",
    "version": 3
   },
   "file_extension": ".py",
   "mimetype": "text/x-python",
   "name": "python",
   "nbconvert_exporter": "python",
   "pygments_lexer": "ipython3",
   "version": "3.13.2"
  }
 },
 "nbformat": 4,
 "nbformat_minor": 5
}
